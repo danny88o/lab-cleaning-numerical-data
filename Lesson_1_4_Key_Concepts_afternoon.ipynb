{
 "cells": [
  {
   "cell_type": "markdown",
   "metadata": {
    "id": "cmbU5xlvgeXJ"
   },
   "source": [
    "## Importing libraries"
   ]
  },
  {
   "cell_type": "code",
   "execution_count": 1,
   "metadata": {
    "id": "gWGsI-x5ctNi"
   },
   "outputs": [],
   "source": [
    "import pandas as pd\n",
    "import numpy as np\n",
    "import datetime\n",
    "import warnings\n",
    "\n",
    "warnings.filterwarnings('ignore')\n",
    "warnings.filterwarnings(\"ignore\", message=\"numpy.ufunc size changed\")\n",
    "\n",
    "import matplotlib.pyplot as plt\n",
    "import seaborn as sns\n",
    "sns.set_style(\"whitegrid\")\n",
    "\n",
    "%matplotlib inline\n",
    "\n",
    "pd.set_option('display.max_columns', None)"
   ]
  },
  {
   "cell_type": "markdown",
   "metadata": {
    "id": "NF1DLai9fXWx"
   },
   "source": [
    "Uploading files to google colab."
   ]
  },
  {
   "cell_type": "code",
   "execution_count": null,
   "metadata": {
    "id": "wo0r0Na_fbSL"
   },
   "outputs": [],
   "source": []
  },
  {
   "cell_type": "markdown",
   "metadata": {
    "id": "s9TRn9PXgVpd"
   },
   "source": [
    "## Importing data"
   ]
  },
  {
   "cell_type": "code",
   "execution_count": 2,
   "metadata": {
    "id": "y3Fxe8ePfCud"
   },
   "outputs": [],
   "source": [
    "data = pd.read_csv('files_for_lab/we_fn_use_c_marketing_customer_value_analysis.csv') "
   ]
  },
  {
   "cell_type": "code",
   "execution_count": 3,
   "metadata": {
    "colab": {
     "base_uri": "https://localhost:8080/",
     "height": 215
    },
    "id": "TNQ1je7Y3Q92",
    "outputId": "a6edd5f3-c0ed-45b0-901f-834798e4433a"
   },
   "outputs": [
    {
     "data": {
      "text/html": [
       "<div>\n",
       "<style scoped>\n",
       "    .dataframe tbody tr th:only-of-type {\n",
       "        vertical-align: middle;\n",
       "    }\n",
       "\n",
       "    .dataframe tbody tr th {\n",
       "        vertical-align: top;\n",
       "    }\n",
       "\n",
       "    .dataframe thead th {\n",
       "        text-align: right;\n",
       "    }\n",
       "</style>\n",
       "<table border=\"1\" class=\"dataframe\">\n",
       "  <thead>\n",
       "    <tr style=\"text-align: right;\">\n",
       "      <th></th>\n",
       "      <th>Customer</th>\n",
       "      <th>State</th>\n",
       "      <th>Customer Lifetime Value</th>\n",
       "      <th>Response</th>\n",
       "      <th>Coverage</th>\n",
       "      <th>Education</th>\n",
       "      <th>Effective To Date</th>\n",
       "      <th>EmploymentStatus</th>\n",
       "      <th>Gender</th>\n",
       "      <th>Income</th>\n",
       "      <th>Location Code</th>\n",
       "      <th>Marital Status</th>\n",
       "      <th>Monthly Premium Auto</th>\n",
       "      <th>Months Since Last Claim</th>\n",
       "      <th>Months Since Policy Inception</th>\n",
       "      <th>Number of Open Complaints</th>\n",
       "      <th>Number of Policies</th>\n",
       "      <th>Policy Type</th>\n",
       "      <th>Policy</th>\n",
       "      <th>Renew Offer Type</th>\n",
       "      <th>Sales Channel</th>\n",
       "      <th>Total Claim Amount</th>\n",
       "      <th>Vehicle Class</th>\n",
       "      <th>Vehicle Size</th>\n",
       "    </tr>\n",
       "  </thead>\n",
       "  <tbody>\n",
       "    <tr>\n",
       "      <th>0</th>\n",
       "      <td>BU79786</td>\n",
       "      <td>Washington</td>\n",
       "      <td>2763.519279</td>\n",
       "      <td>No</td>\n",
       "      <td>Basic</td>\n",
       "      <td>Bachelor</td>\n",
       "      <td>2/24/11</td>\n",
       "      <td>Employed</td>\n",
       "      <td>F</td>\n",
       "      <td>56274</td>\n",
       "      <td>Suburban</td>\n",
       "      <td>Married</td>\n",
       "      <td>69</td>\n",
       "      <td>32</td>\n",
       "      <td>5</td>\n",
       "      <td>0</td>\n",
       "      <td>1</td>\n",
       "      <td>Corporate Auto</td>\n",
       "      <td>Corporate L3</td>\n",
       "      <td>Offer1</td>\n",
       "      <td>Agent</td>\n",
       "      <td>384.811147</td>\n",
       "      <td>Two-Door Car</td>\n",
       "      <td>Medsize</td>\n",
       "    </tr>\n",
       "    <tr>\n",
       "      <th>1</th>\n",
       "      <td>QZ44356</td>\n",
       "      <td>Arizona</td>\n",
       "      <td>6979.535903</td>\n",
       "      <td>No</td>\n",
       "      <td>Extended</td>\n",
       "      <td>Bachelor</td>\n",
       "      <td>1/31/11</td>\n",
       "      <td>Unemployed</td>\n",
       "      <td>F</td>\n",
       "      <td>0</td>\n",
       "      <td>Suburban</td>\n",
       "      <td>Single</td>\n",
       "      <td>94</td>\n",
       "      <td>13</td>\n",
       "      <td>42</td>\n",
       "      <td>0</td>\n",
       "      <td>8</td>\n",
       "      <td>Personal Auto</td>\n",
       "      <td>Personal L3</td>\n",
       "      <td>Offer3</td>\n",
       "      <td>Agent</td>\n",
       "      <td>1131.464935</td>\n",
       "      <td>Four-Door Car</td>\n",
       "      <td>Medsize</td>\n",
       "    </tr>\n",
       "    <tr>\n",
       "      <th>2</th>\n",
       "      <td>AI49188</td>\n",
       "      <td>Nevada</td>\n",
       "      <td>12887.431650</td>\n",
       "      <td>No</td>\n",
       "      <td>Premium</td>\n",
       "      <td>Bachelor</td>\n",
       "      <td>2/19/11</td>\n",
       "      <td>Employed</td>\n",
       "      <td>F</td>\n",
       "      <td>48767</td>\n",
       "      <td>Suburban</td>\n",
       "      <td>Married</td>\n",
       "      <td>108</td>\n",
       "      <td>18</td>\n",
       "      <td>38</td>\n",
       "      <td>0</td>\n",
       "      <td>2</td>\n",
       "      <td>Personal Auto</td>\n",
       "      <td>Personal L3</td>\n",
       "      <td>Offer1</td>\n",
       "      <td>Agent</td>\n",
       "      <td>566.472247</td>\n",
       "      <td>Two-Door Car</td>\n",
       "      <td>Medsize</td>\n",
       "    </tr>\n",
       "    <tr>\n",
       "      <th>3</th>\n",
       "      <td>WW63253</td>\n",
       "      <td>California</td>\n",
       "      <td>7645.861827</td>\n",
       "      <td>No</td>\n",
       "      <td>Basic</td>\n",
       "      <td>Bachelor</td>\n",
       "      <td>1/20/11</td>\n",
       "      <td>Unemployed</td>\n",
       "      <td>M</td>\n",
       "      <td>0</td>\n",
       "      <td>Suburban</td>\n",
       "      <td>Married</td>\n",
       "      <td>106</td>\n",
       "      <td>18</td>\n",
       "      <td>65</td>\n",
       "      <td>0</td>\n",
       "      <td>7</td>\n",
       "      <td>Corporate Auto</td>\n",
       "      <td>Corporate L2</td>\n",
       "      <td>Offer1</td>\n",
       "      <td>Call Center</td>\n",
       "      <td>529.881344</td>\n",
       "      <td>SUV</td>\n",
       "      <td>Medsize</td>\n",
       "    </tr>\n",
       "    <tr>\n",
       "      <th>4</th>\n",
       "      <td>HB64268</td>\n",
       "      <td>Washington</td>\n",
       "      <td>2813.692575</td>\n",
       "      <td>No</td>\n",
       "      <td>Basic</td>\n",
       "      <td>Bachelor</td>\n",
       "      <td>2/3/11</td>\n",
       "      <td>Employed</td>\n",
       "      <td>M</td>\n",
       "      <td>43836</td>\n",
       "      <td>Rural</td>\n",
       "      <td>Single</td>\n",
       "      <td>73</td>\n",
       "      <td>12</td>\n",
       "      <td>44</td>\n",
       "      <td>0</td>\n",
       "      <td>1</td>\n",
       "      <td>Personal Auto</td>\n",
       "      <td>Personal L1</td>\n",
       "      <td>Offer1</td>\n",
       "      <td>Agent</td>\n",
       "      <td>138.130879</td>\n",
       "      <td>Four-Door Car</td>\n",
       "      <td>Medsize</td>\n",
       "    </tr>\n",
       "  </tbody>\n",
       "</table>\n",
       "</div>"
      ],
      "text/plain": [
       "  Customer       State  Customer Lifetime Value Response  Coverage Education  \\\n",
       "0  BU79786  Washington              2763.519279       No     Basic  Bachelor   \n",
       "1  QZ44356     Arizona              6979.535903       No  Extended  Bachelor   \n",
       "2  AI49188      Nevada             12887.431650       No   Premium  Bachelor   \n",
       "3  WW63253  California              7645.861827       No     Basic  Bachelor   \n",
       "4  HB64268  Washington              2813.692575       No     Basic  Bachelor   \n",
       "\n",
       "  Effective To Date EmploymentStatus Gender  Income Location Code  \\\n",
       "0           2/24/11         Employed      F   56274      Suburban   \n",
       "1           1/31/11       Unemployed      F       0      Suburban   \n",
       "2           2/19/11         Employed      F   48767      Suburban   \n",
       "3           1/20/11       Unemployed      M       0      Suburban   \n",
       "4            2/3/11         Employed      M   43836         Rural   \n",
       "\n",
       "  Marital Status  Monthly Premium Auto  Months Since Last Claim  \\\n",
       "0        Married                    69                       32   \n",
       "1         Single                    94                       13   \n",
       "2        Married                   108                       18   \n",
       "3        Married                   106                       18   \n",
       "4         Single                    73                       12   \n",
       "\n",
       "   Months Since Policy Inception  Number of Open Complaints  \\\n",
       "0                              5                          0   \n",
       "1                             42                          0   \n",
       "2                             38                          0   \n",
       "3                             65                          0   \n",
       "4                             44                          0   \n",
       "\n",
       "   Number of Policies     Policy Type        Policy Renew Offer Type  \\\n",
       "0                   1  Corporate Auto  Corporate L3           Offer1   \n",
       "1                   8   Personal Auto   Personal L3           Offer3   \n",
       "2                   2   Personal Auto   Personal L3           Offer1   \n",
       "3                   7  Corporate Auto  Corporate L2           Offer1   \n",
       "4                   1   Personal Auto   Personal L1           Offer1   \n",
       "\n",
       "  Sales Channel  Total Claim Amount  Vehicle Class Vehicle Size  \n",
       "0         Agent          384.811147   Two-Door Car      Medsize  \n",
       "1         Agent         1131.464935  Four-Door Car      Medsize  \n",
       "2         Agent          566.472247   Two-Door Car      Medsize  \n",
       "3   Call Center          529.881344            SUV      Medsize  \n",
       "4         Agent          138.130879  Four-Door Car      Medsize  "
      ]
     },
     "execution_count": 3,
     "metadata": {},
     "output_type": "execute_result"
    }
   ],
   "source": [
    "data.head()"
   ]
  },
  {
   "cell_type": "code",
   "execution_count": 4,
   "metadata": {
    "colab": {
     "base_uri": "https://localhost:8080/",
     "height": 34
    },
    "id": "0_rLC5xe3TPZ",
    "outputId": "3b09f719-61fa-4c10-cbdc-944e0f10fb2a"
   },
   "outputs": [
    {
     "data": {
      "text/plain": [
       "(9134, 24)"
      ]
     },
     "execution_count": 4,
     "metadata": {},
     "output_type": "execute_result"
    }
   ],
   "source": [
    "data.shape"
   ]
  },
  {
   "cell_type": "markdown",
   "metadata": {
    "id": "-aR9fCZKlA1P"
   },
   "source": [
    "Metadata:\n",
    "\n",
    "**STATE:** \n",
    "\n",
    "State abbreviation (a nominal/symbolic field)\n",
    "\n",
    "**PVASTATE**:\n",
    "\n",
    "EPVA State or PVA State\n",
    "Indicates whether the donor lives in a state served by the organization's EPVA chapter\n",
    "P = PVA State\n",
    "E = EPVA State (Northeastern US)\n",
    "\n",
    "**DOB:**\n",
    "\n",
    "Date of birth (YYMM, Year/Month format.)\n",
    "\n",
    "**RECP3**                      \n",
    "\n",
    "P3 File Flag_ = Not a P3 Record\n",
    "X = Donor has given to PVA's P3 program\n",
    "\n",
    "**MDMAUD**\n",
    "\n",
    "The Major Donor Matrix code. The codes describe frequency and amount of\n",
    "giving for donors who have given a $100+ gift at any time in their giving history. An RFA (recency/frequency/monetary) field. The (current) concatenated version is a nominal or symbolic field. The individual bytes could separately be used as fields and refer to the following: \n",
    "  \n",
    "First byte: Recency of Giving:\n",
    "\n",
    "*  C=Current Donor\n",
    "*  L=Lapsed Donor\n",
    "*  I=Inactive Donor\n",
    "*  D=Dormant Donor\n",
    "                           \n",
    "2nd byte: Frequency of Giving:\n",
    "\n",
    "*  1=One gift in the period of recency\n",
    "*  2=Two-Four gifts in the period of recency\n",
    "*  5=Five+ gifts in the period of recency\n",
    "                           \n",
    "3rd byte: Amount of Giving:\n",
    "\n",
    "*   L=Less than $100(Low Dollar)\n",
    "\n",
    "*   C=$100-499(Core)\n",
    "\n",
    "*   M=$500-999(Major)\n",
    "\n",
    "*   T=$1,000+(Top)\n",
    "                           \n",
    "4th byte: Blank/meaningless/filler:\n",
    "\n",
    "**'X'** \n",
    "\n",
    "Indicates that the donor is not a major donor.\n",
    "\n",
    "**'GENDER':** \n",
    "\n",
    "Gender of the donor\n",
    "\n",
    "**DOMAIN**  \n",
    "\n",
    "DOMAIN/Cluster code. A nominal or symbolic field. \n",
    "could be broken down by bytes as explained below.  \n",
    "                           \n",
    "1st byte = Urbanicity level of the donor's neighborhood\n",
    "\n",
    "*   U=Urban\n",
    "*   C=City\n",
    "*   S=Suburban\n",
    "*   T=Town\n",
    "*   R=Rural\n",
    "                           \n",
    "2nd byte = Socio-Economic status of the neighborhood\n",
    "\n",
    "*   1 = Highest SES\n",
    "*   2 = Average SES\n",
    "*   3 = Lowest SES (except for Urban communities, where 1 = Highest SES,2 = Above average SES,3 = Below average SES, 4 = Lowest SES.)\n",
    "\n",
    "**HOMEOWNR:** Home Owner Flag:\n",
    "\n",
    "*   H = Home owner \n",
    "*   U = Unknown\n",
    "\n",
    "**'INCOME'** HOUSEHOLD INCOME:\n",
    "\n",
    "**HV1**  Median Home Value in hundreds.\n",
    "\n",
    "**HV2** Average Home Value in hundreds.\n",
    "\n",
    "**HV3**  Median Contract Rent in hundreds.\n",
    "\n",
    "**HV4** Average Contract Rent in hundreds 'IC1'.\n",
    "\n",
    "**IC1**  Median Household Income in hundreds.\n",
    "\n",
    "**IC2**  Median Family Income in hundreds.\n",
    "\n",
    "**IC3**  Average Household Income in hundreds.\n",
    "\n",
    "**IC4** Average Family Income in hundreds.\n",
    "\n",
    "**IC5** Per Capita Income.\n",
    "\n",
    "**'VETERANS'**:   \n",
    "\n",
    "VETERANS (Y/N)\n",
    "\n",
    "**'RFA_2'**  \n",
    "\n",
    "Donor's RFA status as of 97NK promotion date \n",
    "\n",
    "**CARDPROM:** \n",
    "\n",
    "Lifetime number of card promotions received to date. Card promotions are promotion type: \n",
    "\n",
    "*   FS\n",
    "*   GK\n",
    "*   TK\n",
    "*   SK\n",
    "*   NK\n",
    "*   XK\n",
    "*   UF\n",
    "*   UU\n",
    "\n",
    "**MAXADATE:**\n",
    "\n",
    "Date of the most recent promotion received (in YYMM, Year/Month format)\n",
    "\n",
    "**NUMPROM:** \n",
    "\n",
    "Lifetime number of promotions received to date\n",
    "\n",
    "**CARDPM12:**\n",
    "\n",
    "Number of card promotions received in the last 12 months (in terms of calendar months translates into 9603-9702) \n",
    "\n",
    "**UMPRM12**\n",
    "\n",
    "Number of promotions received in the last 12months (in terms of calendar months translates into 9603-9702)\n",
    "\n",
    "**'NGIFTALL':**        \n",
    "\n",
    "Number of lifetime gifts to date.\n",
    "\n",
    "**'TIMELAG':**\n",
    "Number of months between first and second gift neighborhood demographics \n",
    "\n",
    "**AGE901:** \n",
    "\n",
    "Median Age of Population\n",
    "\n",
    "**AGE902:** \n",
    "\n",
    "Median Age of Adults 18 or Older\n",
    "\n",
    "**AGE903:** \n",
    "\n",
    "Median Age of Adults 25 or Older\n",
    "\n",
    "**'AVGGIFT'**\n",
    "\n",
    "Average git amount"
   ]
  },
  {
   "cell_type": "markdown",
   "metadata": {
    "id": "RMA0c6Bfriwp"
   },
   "source": [
    "## Checking data types"
   ]
  },
  {
   "cell_type": "code",
   "execution_count": 5,
   "metadata": {
    "colab": {
     "base_uri": "https://localhost:8080/",
     "height": 605
    },
    "id": "aVe-wEskrlw-",
    "outputId": "ef2fe28e-7b2c-4c17-a088-12f48311a21f"
   },
   "outputs": [
    {
     "name": "stdout",
     "output_type": "stream",
     "text": [
      "<class 'pandas.core.frame.DataFrame'>\n",
      "RangeIndex: 9134 entries, 0 to 9133\n",
      "Data columns (total 24 columns):\n",
      " #   Column                         Non-Null Count  Dtype  \n",
      "---  ------                         --------------  -----  \n",
      " 0   Customer                       9134 non-null   object \n",
      " 1   State                          9134 non-null   object \n",
      " 2   Customer Lifetime Value        9134 non-null   float64\n",
      " 3   Response                       9134 non-null   object \n",
      " 4   Coverage                       9134 non-null   object \n",
      " 5   Education                      9134 non-null   object \n",
      " 6   Effective To Date              9134 non-null   object \n",
      " 7   EmploymentStatus               9134 non-null   object \n",
      " 8   Gender                         9134 non-null   object \n",
      " 9   Income                         9134 non-null   int64  \n",
      " 10  Location Code                  9134 non-null   object \n",
      " 11  Marital Status                 9134 non-null   object \n",
      " 12  Monthly Premium Auto           9134 non-null   int64  \n",
      " 13  Months Since Last Claim        9134 non-null   int64  \n",
      " 14  Months Since Policy Inception  9134 non-null   int64  \n",
      " 15  Number of Open Complaints      9134 non-null   int64  \n",
      " 16  Number of Policies             9134 non-null   int64  \n",
      " 17  Policy Type                    9134 non-null   object \n",
      " 18  Policy                         9134 non-null   object \n",
      " 19  Renew Offer Type               9134 non-null   object \n",
      " 20  Sales Channel                  9134 non-null   object \n",
      " 21  Total Claim Amount             9134 non-null   float64\n",
      " 22  Vehicle Class                  9134 non-null   object \n",
      " 23  Vehicle Size                   9134 non-null   object \n",
      "dtypes: float64(2), int64(6), object(16)\n",
      "memory usage: 1.1+ MB\n"
     ]
    }
   ],
   "source": [
    "data.info()"
   ]
  },
  {
   "cell_type": "markdown",
   "metadata": {
    "id": "L6WZgCCek4zm"
   },
   "source": [
    "## Checking for null values"
   ]
  },
  {
   "cell_type": "code",
   "execution_count": 6,
   "metadata": {
    "colab": {
     "base_uri": "https://localhost:8080/",
     "height": 876
    },
    "id": "etjuldy-k8J6",
    "outputId": "482c7537-01ca-47e2-bb06-96866a58660a"
   },
   "outputs": [
    {
     "data": {
      "text/html": [
       "<div>\n",
       "<style scoped>\n",
       "    .dataframe tbody tr th:only-of-type {\n",
       "        vertical-align: middle;\n",
       "    }\n",
       "\n",
       "    .dataframe tbody tr th {\n",
       "        vertical-align: top;\n",
       "    }\n",
       "\n",
       "    .dataframe thead th {\n",
       "        text-align: right;\n",
       "    }\n",
       "</style>\n",
       "<table border=\"1\" class=\"dataframe\">\n",
       "  <thead>\n",
       "    <tr style=\"text-align: right;\">\n",
       "      <th></th>\n",
       "      <th>column_name</th>\n",
       "      <th>Percentage Null Values</th>\n",
       "    </tr>\n",
       "  </thead>\n",
       "  <tbody>\n",
       "    <tr>\n",
       "      <th>0</th>\n",
       "      <td>Customer</td>\n",
       "      <td>0.0</td>\n",
       "    </tr>\n",
       "    <tr>\n",
       "      <th>1</th>\n",
       "      <td>State</td>\n",
       "      <td>0.0</td>\n",
       "    </tr>\n",
       "    <tr>\n",
       "      <th>22</th>\n",
       "      <td>Vehicle Class</td>\n",
       "      <td>0.0</td>\n",
       "    </tr>\n",
       "    <tr>\n",
       "      <th>21</th>\n",
       "      <td>Total Claim Amount</td>\n",
       "      <td>0.0</td>\n",
       "    </tr>\n",
       "    <tr>\n",
       "      <th>20</th>\n",
       "      <td>Sales Channel</td>\n",
       "      <td>0.0</td>\n",
       "    </tr>\n",
       "    <tr>\n",
       "      <th>19</th>\n",
       "      <td>Renew Offer Type</td>\n",
       "      <td>0.0</td>\n",
       "    </tr>\n",
       "    <tr>\n",
       "      <th>18</th>\n",
       "      <td>Policy</td>\n",
       "      <td>0.0</td>\n",
       "    </tr>\n",
       "    <tr>\n",
       "      <th>17</th>\n",
       "      <td>Policy Type</td>\n",
       "      <td>0.0</td>\n",
       "    </tr>\n",
       "    <tr>\n",
       "      <th>16</th>\n",
       "      <td>Number of Policies</td>\n",
       "      <td>0.0</td>\n",
       "    </tr>\n",
       "    <tr>\n",
       "      <th>15</th>\n",
       "      <td>Number of Open Complaints</td>\n",
       "      <td>0.0</td>\n",
       "    </tr>\n",
       "    <tr>\n",
       "      <th>14</th>\n",
       "      <td>Months Since Policy Inception</td>\n",
       "      <td>0.0</td>\n",
       "    </tr>\n",
       "    <tr>\n",
       "      <th>13</th>\n",
       "      <td>Months Since Last Claim</td>\n",
       "      <td>0.0</td>\n",
       "    </tr>\n",
       "    <tr>\n",
       "      <th>12</th>\n",
       "      <td>Monthly Premium Auto</td>\n",
       "      <td>0.0</td>\n",
       "    </tr>\n",
       "    <tr>\n",
       "      <th>11</th>\n",
       "      <td>Marital Status</td>\n",
       "      <td>0.0</td>\n",
       "    </tr>\n",
       "    <tr>\n",
       "      <th>10</th>\n",
       "      <td>Location Code</td>\n",
       "      <td>0.0</td>\n",
       "    </tr>\n",
       "    <tr>\n",
       "      <th>9</th>\n",
       "      <td>Income</td>\n",
       "      <td>0.0</td>\n",
       "    </tr>\n",
       "    <tr>\n",
       "      <th>8</th>\n",
       "      <td>Gender</td>\n",
       "      <td>0.0</td>\n",
       "    </tr>\n",
       "    <tr>\n",
       "      <th>7</th>\n",
       "      <td>EmploymentStatus</td>\n",
       "      <td>0.0</td>\n",
       "    </tr>\n",
       "    <tr>\n",
       "      <th>6</th>\n",
       "      <td>Effective To Date</td>\n",
       "      <td>0.0</td>\n",
       "    </tr>\n",
       "    <tr>\n",
       "      <th>5</th>\n",
       "      <td>Education</td>\n",
       "      <td>0.0</td>\n",
       "    </tr>\n",
       "    <tr>\n",
       "      <th>4</th>\n",
       "      <td>Coverage</td>\n",
       "      <td>0.0</td>\n",
       "    </tr>\n",
       "    <tr>\n",
       "      <th>3</th>\n",
       "      <td>Response</td>\n",
       "      <td>0.0</td>\n",
       "    </tr>\n",
       "    <tr>\n",
       "      <th>2</th>\n",
       "      <td>Customer Lifetime Value</td>\n",
       "      <td>0.0</td>\n",
       "    </tr>\n",
       "    <tr>\n",
       "      <th>23</th>\n",
       "      <td>Vehicle Size</td>\n",
       "      <td>0.0</td>\n",
       "    </tr>\n",
       "  </tbody>\n",
       "</table>\n",
       "</div>"
      ],
      "text/plain": [
       "                      column_name  Percentage Null Values\n",
       "0                        Customer                     0.0\n",
       "1                           State                     0.0\n",
       "22                  Vehicle Class                     0.0\n",
       "21             Total Claim Amount                     0.0\n",
       "20                  Sales Channel                     0.0\n",
       "19               Renew Offer Type                     0.0\n",
       "18                         Policy                     0.0\n",
       "17                    Policy Type                     0.0\n",
       "16             Number of Policies                     0.0\n",
       "15      Number of Open Complaints                     0.0\n",
       "14  Months Since Policy Inception                     0.0\n",
       "13        Months Since Last Claim                     0.0\n",
       "12           Monthly Premium Auto                     0.0\n",
       "11                 Marital Status                     0.0\n",
       "10                  Location Code                     0.0\n",
       "9                          Income                     0.0\n",
       "8                          Gender                     0.0\n",
       "7                EmploymentStatus                     0.0\n",
       "6               Effective To Date                     0.0\n",
       "5                       Education                     0.0\n",
       "4                        Coverage                     0.0\n",
       "3                        Response                     0.0\n",
       "2         Customer Lifetime Value                     0.0\n",
       "23                   Vehicle Size                     0.0"
      ]
     },
     "execution_count": 6,
     "metadata": {},
     "output_type": "execute_result"
    }
   ],
   "source": [
    "nulls = pd.DataFrame(data.isna().sum()/len(data))\n",
    "nulls= nulls.reset_index()\n",
    "nulls.columns = ['column_name', 'Percentage Null Values']\n",
    "nulls.sort_values(by='Percentage Null Values', ascending = False)"
   ]
  },
  {
   "cell_type": "markdown",
   "metadata": {
    "id": "J8z91yHVq8hM"
   },
   "source": [
    "## Checking the numerical values"
   ]
  },
  {
   "cell_type": "code",
   "execution_count": 7,
   "metadata": {
    "colab": {
     "base_uri": "https://localhost:8080/",
     "height": 215
    },
    "id": "92RPfIjurDOw",
    "outputId": "a918238a-e72d-48ab-ea99-ce8e1472b6a4"
   },
   "outputs": [
    {
     "data": {
      "text/html": [
       "<div>\n",
       "<style scoped>\n",
       "    .dataframe tbody tr th:only-of-type {\n",
       "        vertical-align: middle;\n",
       "    }\n",
       "\n",
       "    .dataframe tbody tr th {\n",
       "        vertical-align: top;\n",
       "    }\n",
       "\n",
       "    .dataframe thead th {\n",
       "        text-align: right;\n",
       "    }\n",
       "</style>\n",
       "<table border=\"1\" class=\"dataframe\">\n",
       "  <thead>\n",
       "    <tr style=\"text-align: right;\">\n",
       "      <th></th>\n",
       "      <th>Customer Lifetime Value</th>\n",
       "      <th>Income</th>\n",
       "      <th>Monthly Premium Auto</th>\n",
       "      <th>Months Since Last Claim</th>\n",
       "      <th>Months Since Policy Inception</th>\n",
       "      <th>Number of Open Complaints</th>\n",
       "      <th>Number of Policies</th>\n",
       "      <th>Total Claim Amount</th>\n",
       "    </tr>\n",
       "  </thead>\n",
       "  <tbody>\n",
       "    <tr>\n",
       "      <th>0</th>\n",
       "      <td>2763.519279</td>\n",
       "      <td>56274</td>\n",
       "      <td>69</td>\n",
       "      <td>32</td>\n",
       "      <td>5</td>\n",
       "      <td>0</td>\n",
       "      <td>1</td>\n",
       "      <td>384.811147</td>\n",
       "    </tr>\n",
       "    <tr>\n",
       "      <th>1</th>\n",
       "      <td>6979.535903</td>\n",
       "      <td>0</td>\n",
       "      <td>94</td>\n",
       "      <td>13</td>\n",
       "      <td>42</td>\n",
       "      <td>0</td>\n",
       "      <td>8</td>\n",
       "      <td>1131.464935</td>\n",
       "    </tr>\n",
       "    <tr>\n",
       "      <th>2</th>\n",
       "      <td>12887.431650</td>\n",
       "      <td>48767</td>\n",
       "      <td>108</td>\n",
       "      <td>18</td>\n",
       "      <td>38</td>\n",
       "      <td>0</td>\n",
       "      <td>2</td>\n",
       "      <td>566.472247</td>\n",
       "    </tr>\n",
       "    <tr>\n",
       "      <th>3</th>\n",
       "      <td>7645.861827</td>\n",
       "      <td>0</td>\n",
       "      <td>106</td>\n",
       "      <td>18</td>\n",
       "      <td>65</td>\n",
       "      <td>0</td>\n",
       "      <td>7</td>\n",
       "      <td>529.881344</td>\n",
       "    </tr>\n",
       "    <tr>\n",
       "      <th>4</th>\n",
       "      <td>2813.692575</td>\n",
       "      <td>43836</td>\n",
       "      <td>73</td>\n",
       "      <td>12</td>\n",
       "      <td>44</td>\n",
       "      <td>0</td>\n",
       "      <td>1</td>\n",
       "      <td>138.130879</td>\n",
       "    </tr>\n",
       "  </tbody>\n",
       "</table>\n",
       "</div>"
      ],
      "text/plain": [
       "   Customer Lifetime Value  Income  Monthly Premium Auto  \\\n",
       "0              2763.519279   56274                    69   \n",
       "1              6979.535903       0                    94   \n",
       "2             12887.431650   48767                   108   \n",
       "3              7645.861827       0                   106   \n",
       "4              2813.692575   43836                    73   \n",
       "\n",
       "   Months Since Last Claim  Months Since Policy Inception  \\\n",
       "0                       32                              5   \n",
       "1                       13                             42   \n",
       "2                       18                             38   \n",
       "3                       18                             65   \n",
       "4                       12                             44   \n",
       "\n",
       "   Number of Open Complaints  Number of Policies  Total Claim Amount  \n",
       "0                          0                   1          384.811147  \n",
       "1                          0                   8         1131.464935  \n",
       "2                          0                   2          566.472247  \n",
       "3                          0                   7          529.881344  \n",
       "4                          0                   1          138.130879  "
      ]
     },
     "execution_count": 7,
     "metadata": {},
     "output_type": "execute_result"
    }
   ],
   "source": [
    "numericals = data.select_dtypes(np.number)\n",
    "numericals.head()"
   ]
  },
  {
   "cell_type": "markdown",
   "metadata": {
    "id": "r9DPn2A3sJKy"
   },
   "source": [
    "*   The INCOME might be an important factor in predicting the gift value, so even though it has a lot of null values, we will not drop the column.\n",
    "\n",
    "*   In this exercise, we will try a more precise method to replace the null values, instead of simply replacing them by a constant value, mean or median.\n",
    "\n",
    "*   We will use a similar method for the column TIMELAG ."
   ]
  },
  {
   "cell_type": "markdown",
   "metadata": {
    "id": "cmeKQz5rsi_8"
   },
   "source": [
    "## Checking the **income's** histogram"
   ]
  },
  {
   "cell_type": "code",
   "execution_count": 9,
   "metadata": {
    "colab": {
     "base_uri": "https://localhost:8080/",
     "height": 296
    },
    "id": "jYD4hIQmsgg2",
    "outputId": "f65b4200-f65a-4148-c3c4-a93ef32c4d91"
   },
   "outputs": [
    {
     "data": {
      "text/plain": [
       "<AxesSubplot:xlabel='Income', ylabel='Count'>"
      ]
     },
     "execution_count": 9,
     "metadata": {},
     "output_type": "execute_result"
    },
    {
     "data": {
      "image/png": "[encoded data removed]",
      "text/plain": [
       "<Figure size 432x288 with 1 Axes>"
      ]
     },
     "metadata": {
      "needs_background": "light"
     },
     "output_type": "display_data"
    }
   ],
   "source": [
    "sns.histplot(data['Income'])"
   ]
  },
  {
   "cell_type": "markdown",
   "metadata": {
    "id": "uCSn3CBmt2um"
   },
   "source": [
    "# Activity: Dealing with missing values.\n"
   ]
  },
  {
   "cell_type": "markdown",
   "metadata": {
    "id": "GfRghez1vBj9"
   },
   "source": [
    "Possible approaches:"
   ]
  },
  {
   "cell_type": "markdown",
   "metadata": {
    "id": "lNQaBpm-ua47"
   },
   "source": [
    "**Drop:**\n",
    "\n",
    "Let's consider the **gender** column. \n",
    "\n",
    "*   Can we guess in somehow what is the missing gender? **NO**. \n",
    "*   Can this column have any possible value compatible with a missing value? **NO**\n",
    "\n",
    "Therefore, we are forced to drop the corresponding rows."
   ]
  },
  {
   "cell_type": "code",
   "execution_count": 12,
   "metadata": {
    "colab": {
     "base_uri": "https://localhost:8080/",
     "height": 151
    },
    "id": "0fgCiovl6DCO",
    "outputId": "add35a57-b872-4825-d63f-6004a74a68b1"
   },
   "outputs": [
    {
     "data": {
      "text/plain": [
       "F    4658\n",
       "M    4476\n",
       "Name: Gender, dtype: int64"
      ]
     },
     "execution_count": 12,
     "metadata": {},
     "output_type": "execute_result"
    }
   ],
   "source": [
    "data['Gender'].value_counts()"
   ]
  },
  {
   "cell_type": "code",
   "execution_count": 13,
   "metadata": {
    "colab": {
     "base_uri": "https://localhost:8080/",
     "height": 422
    },
    "id": "vOh7R9jr62_I",
    "outputId": "461b3ed5-6e87-491f-e0f2-dc6ba31d5409"
   },
   "outputs": [
    {
     "data": {
      "text/html": [
       "<div>\n",
       "<style scoped>\n",
       "    .dataframe tbody tr th:only-of-type {\n",
       "        vertical-align: middle;\n",
       "    }\n",
       "\n",
       "    .dataframe tbody tr th {\n",
       "        vertical-align: top;\n",
       "    }\n",
       "\n",
       "    .dataframe thead th {\n",
       "        text-align: right;\n",
       "    }\n",
       "</style>\n",
       "<table border=\"1\" class=\"dataframe\">\n",
       "  <thead>\n",
       "    <tr style=\"text-align: right;\">\n",
       "      <th></th>\n",
       "      <th>Customer</th>\n",
       "      <th>State</th>\n",
       "      <th>Customer Lifetime Value</th>\n",
       "      <th>Response</th>\n",
       "      <th>Coverage</th>\n",
       "      <th>Education</th>\n",
       "      <th>Effective To Date</th>\n",
       "      <th>EmploymentStatus</th>\n",
       "      <th>Gender</th>\n",
       "      <th>Income</th>\n",
       "      <th>Location Code</th>\n",
       "      <th>Marital Status</th>\n",
       "      <th>Monthly Premium Auto</th>\n",
       "      <th>Months Since Last Claim</th>\n",
       "      <th>Months Since Policy Inception</th>\n",
       "      <th>Number of Open Complaints</th>\n",
       "      <th>Number of Policies</th>\n",
       "      <th>Policy Type</th>\n",
       "      <th>Policy</th>\n",
       "      <th>Renew Offer Type</th>\n",
       "      <th>Sales Channel</th>\n",
       "      <th>Total Claim Amount</th>\n",
       "      <th>Vehicle Class</th>\n",
       "      <th>Vehicle Size</th>\n",
       "    </tr>\n",
       "  </thead>\n",
       "  <tbody>\n",
       "    <tr>\n",
       "      <th>0</th>\n",
       "      <td>BU79786</td>\n",
       "      <td>Washington</td>\n",
       "      <td>2763.519279</td>\n",
       "      <td>No</td>\n",
       "      <td>Basic</td>\n",
       "      <td>Bachelor</td>\n",
       "      <td>2/24/11</td>\n",
       "      <td>Employed</td>\n",
       "      <td>F</td>\n",
       "      <td>56274</td>\n",
       "      <td>Suburban</td>\n",
       "      <td>Married</td>\n",
       "      <td>69</td>\n",
       "      <td>32</td>\n",
       "      <td>5</td>\n",
       "      <td>0</td>\n",
       "      <td>1</td>\n",
       "      <td>Corporate Auto</td>\n",
       "      <td>Corporate L3</td>\n",
       "      <td>Offer1</td>\n",
       "      <td>Agent</td>\n",
       "      <td>384.811147</td>\n",
       "      <td>Two-Door Car</td>\n",
       "      <td>Medsize</td>\n",
       "    </tr>\n",
       "    <tr>\n",
       "      <th>1</th>\n",
       "      <td>QZ44356</td>\n",
       "      <td>Arizona</td>\n",
       "      <td>6979.535903</td>\n",
       "      <td>No</td>\n",
       "      <td>Extended</td>\n",
       "      <td>Bachelor</td>\n",
       "      <td>1/31/11</td>\n",
       "      <td>Unemployed</td>\n",
       "      <td>F</td>\n",
       "      <td>0</td>\n",
       "      <td>Suburban</td>\n",
       "      <td>Single</td>\n",
       "      <td>94</td>\n",
       "      <td>13</td>\n",
       "      <td>42</td>\n",
       "      <td>0</td>\n",
       "      <td>8</td>\n",
       "      <td>Personal Auto</td>\n",
       "      <td>Personal L3</td>\n",
       "      <td>Offer3</td>\n",
       "      <td>Agent</td>\n",
       "      <td>1131.464935</td>\n",
       "      <td>Four-Door Car</td>\n",
       "      <td>Medsize</td>\n",
       "    </tr>\n",
       "    <tr>\n",
       "      <th>2</th>\n",
       "      <td>AI49188</td>\n",
       "      <td>Nevada</td>\n",
       "      <td>12887.431650</td>\n",
       "      <td>No</td>\n",
       "      <td>Premium</td>\n",
       "      <td>Bachelor</td>\n",
       "      <td>2/19/11</td>\n",
       "      <td>Employed</td>\n",
       "      <td>F</td>\n",
       "      <td>48767</td>\n",
       "      <td>Suburban</td>\n",
       "      <td>Married</td>\n",
       "      <td>108</td>\n",
       "      <td>18</td>\n",
       "      <td>38</td>\n",
       "      <td>0</td>\n",
       "      <td>2</td>\n",
       "      <td>Personal Auto</td>\n",
       "      <td>Personal L3</td>\n",
       "      <td>Offer1</td>\n",
       "      <td>Agent</td>\n",
       "      <td>566.472247</td>\n",
       "      <td>Two-Door Car</td>\n",
       "      <td>Medsize</td>\n",
       "    </tr>\n",
       "    <tr>\n",
       "      <th>3</th>\n",
       "      <td>WW63253</td>\n",
       "      <td>California</td>\n",
       "      <td>7645.861827</td>\n",
       "      <td>No</td>\n",
       "      <td>Basic</td>\n",
       "      <td>Bachelor</td>\n",
       "      <td>1/20/11</td>\n",
       "      <td>Unemployed</td>\n",
       "      <td>M</td>\n",
       "      <td>0</td>\n",
       "      <td>Suburban</td>\n",
       "      <td>Married</td>\n",
       "      <td>106</td>\n",
       "      <td>18</td>\n",
       "      <td>65</td>\n",
       "      <td>0</td>\n",
       "      <td>7</td>\n",
       "      <td>Corporate Auto</td>\n",
       "      <td>Corporate L2</td>\n",
       "      <td>Offer1</td>\n",
       "      <td>Call Center</td>\n",
       "      <td>529.881344</td>\n",
       "      <td>SUV</td>\n",
       "      <td>Medsize</td>\n",
       "    </tr>\n",
       "    <tr>\n",
       "      <th>4</th>\n",
       "      <td>HB64268</td>\n",
       "      <td>Washington</td>\n",
       "      <td>2813.692575</td>\n",
       "      <td>No</td>\n",
       "      <td>Basic</td>\n",
       "      <td>Bachelor</td>\n",
       "      <td>2/3/11</td>\n",
       "      <td>Employed</td>\n",
       "      <td>M</td>\n",
       "      <td>43836</td>\n",
       "      <td>Rural</td>\n",
       "      <td>Single</td>\n",
       "      <td>73</td>\n",
       "      <td>12</td>\n",
       "      <td>44</td>\n",
       "      <td>0</td>\n",
       "      <td>1</td>\n",
       "      <td>Personal Auto</td>\n",
       "      <td>Personal L1</td>\n",
       "      <td>Offer1</td>\n",
       "      <td>Agent</td>\n",
       "      <td>138.130879</td>\n",
       "      <td>Four-Door Car</td>\n",
       "      <td>Medsize</td>\n",
       "    </tr>\n",
       "    <tr>\n",
       "      <th>...</th>\n",
       "      <td>...</td>\n",
       "      <td>...</td>\n",
       "      <td>...</td>\n",
       "      <td>...</td>\n",
       "      <td>...</td>\n",
       "      <td>...</td>\n",
       "      <td>...</td>\n",
       "      <td>...</td>\n",
       "      <td>...</td>\n",
       "      <td>...</td>\n",
       "      <td>...</td>\n",
       "      <td>...</td>\n",
       "      <td>...</td>\n",
       "      <td>...</td>\n",
       "      <td>...</td>\n",
       "      <td>...</td>\n",
       "      <td>...</td>\n",
       "      <td>...</td>\n",
       "      <td>...</td>\n",
       "      <td>...</td>\n",
       "      <td>...</td>\n",
       "      <td>...</td>\n",
       "      <td>...</td>\n",
       "      <td>...</td>\n",
       "    </tr>\n",
       "    <tr>\n",
       "      <th>9129</th>\n",
       "      <td>LA72316</td>\n",
       "      <td>California</td>\n",
       "      <td>23405.987980</td>\n",
       "      <td>No</td>\n",
       "      <td>Basic</td>\n",
       "      <td>Bachelor</td>\n",
       "      <td>2/10/11</td>\n",
       "      <td>Employed</td>\n",
       "      <td>M</td>\n",
       "      <td>71941</td>\n",
       "      <td>Urban</td>\n",
       "      <td>Married</td>\n",
       "      <td>73</td>\n",
       "      <td>18</td>\n",
       "      <td>89</td>\n",
       "      <td>0</td>\n",
       "      <td>2</td>\n",
       "      <td>Personal Auto</td>\n",
       "      <td>Personal L1</td>\n",
       "      <td>Offer2</td>\n",
       "      <td>Web</td>\n",
       "      <td>198.234764</td>\n",
       "      <td>Four-Door Car</td>\n",
       "      <td>Medsize</td>\n",
       "    </tr>\n",
       "    <tr>\n",
       "      <th>9130</th>\n",
       "      <td>PK87824</td>\n",
       "      <td>California</td>\n",
       "      <td>3096.511217</td>\n",
       "      <td>Yes</td>\n",
       "      <td>Extended</td>\n",
       "      <td>College</td>\n",
       "      <td>2/12/11</td>\n",
       "      <td>Employed</td>\n",
       "      <td>F</td>\n",
       "      <td>21604</td>\n",
       "      <td>Suburban</td>\n",
       "      <td>Divorced</td>\n",
       "      <td>79</td>\n",
       "      <td>14</td>\n",
       "      <td>28</td>\n",
       "      <td>0</td>\n",
       "      <td>1</td>\n",
       "      <td>Corporate Auto</td>\n",
       "      <td>Corporate L3</td>\n",
       "      <td>Offer1</td>\n",
       "      <td>Branch</td>\n",
       "      <td>379.200000</td>\n",
       "      <td>Four-Door Car</td>\n",
       "      <td>Medsize</td>\n",
       "    </tr>\n",
       "    <tr>\n",
       "      <th>9131</th>\n",
       "      <td>TD14365</td>\n",
       "      <td>California</td>\n",
       "      <td>8163.890428</td>\n",
       "      <td>No</td>\n",
       "      <td>Extended</td>\n",
       "      <td>Bachelor</td>\n",
       "      <td>2/6/11</td>\n",
       "      <td>Unemployed</td>\n",
       "      <td>M</td>\n",
       "      <td>0</td>\n",
       "      <td>Suburban</td>\n",
       "      <td>Single</td>\n",
       "      <td>85</td>\n",
       "      <td>9</td>\n",
       "      <td>37</td>\n",
       "      <td>3</td>\n",
       "      <td>2</td>\n",
       "      <td>Corporate Auto</td>\n",
       "      <td>Corporate L2</td>\n",
       "      <td>Offer1</td>\n",
       "      <td>Branch</td>\n",
       "      <td>790.784983</td>\n",
       "      <td>Four-Door Car</td>\n",
       "      <td>Medsize</td>\n",
       "    </tr>\n",
       "    <tr>\n",
       "      <th>9132</th>\n",
       "      <td>UP19263</td>\n",
       "      <td>California</td>\n",
       "      <td>7524.442436</td>\n",
       "      <td>No</td>\n",
       "      <td>Extended</td>\n",
       "      <td>College</td>\n",
       "      <td>2/3/11</td>\n",
       "      <td>Employed</td>\n",
       "      <td>M</td>\n",
       "      <td>21941</td>\n",
       "      <td>Suburban</td>\n",
       "      <td>Married</td>\n",
       "      <td>96</td>\n",
       "      <td>34</td>\n",
       "      <td>3</td>\n",
       "      <td>0</td>\n",
       "      <td>3</td>\n",
       "      <td>Personal Auto</td>\n",
       "      <td>Personal L2</td>\n",
       "      <td>Offer3</td>\n",
       "      <td>Branch</td>\n",
       "      <td>691.200000</td>\n",
       "      <td>Four-Door Car</td>\n",
       "      <td>Large</td>\n",
       "    </tr>\n",
       "    <tr>\n",
       "      <th>9133</th>\n",
       "      <td>Y167826</td>\n",
       "      <td>California</td>\n",
       "      <td>2611.836866</td>\n",
       "      <td>No</td>\n",
       "      <td>Extended</td>\n",
       "      <td>College</td>\n",
       "      <td>2/14/11</td>\n",
       "      <td>Unemployed</td>\n",
       "      <td>M</td>\n",
       "      <td>0</td>\n",
       "      <td>Suburban</td>\n",
       "      <td>Single</td>\n",
       "      <td>77</td>\n",
       "      <td>3</td>\n",
       "      <td>90</td>\n",
       "      <td>0</td>\n",
       "      <td>1</td>\n",
       "      <td>Corporate Auto</td>\n",
       "      <td>Corporate L3</td>\n",
       "      <td>Offer4</td>\n",
       "      <td>Call Center</td>\n",
       "      <td>369.600000</td>\n",
       "      <td>Two-Door Car</td>\n",
       "      <td>Medsize</td>\n",
       "    </tr>\n",
       "  </tbody>\n",
       "</table>\n",
       "<p>9134 rows × 24 columns</p>\n",
       "</div>"
      ],
      "text/plain": [
       "     Customer       State  Customer Lifetime Value Response  Coverage  \\\n",
       "0     BU79786  Washington              2763.519279       No     Basic   \n",
       "1     QZ44356     Arizona              6979.535903       No  Extended   \n",
       "2     AI49188      Nevada             12887.431650       No   Premium   \n",
       "3     WW63253  California              7645.861827       No     Basic   \n",
       "4     HB64268  Washington              2813.692575       No     Basic   \n",
       "...       ...         ...                      ...      ...       ...   \n",
       "9129  LA72316  California             23405.987980       No     Basic   \n",
       "9130  PK87824  California              3096.511217      Yes  Extended   \n",
       "9131  TD14365  California              8163.890428       No  Extended   \n",
       "9132  UP19263  California              7524.442436       No  Extended   \n",
       "9133  Y167826  California              2611.836866       No  Extended   \n",
       "\n",
       "     Education Effective To Date EmploymentStatus Gender  Income  \\\n",
       "0     Bachelor           2/24/11         Employed      F   56274   \n",
       "1     Bachelor           1/31/11       Unemployed      F       0   \n",
       "2     Bachelor           2/19/11         Employed      F   48767   \n",
       "3     Bachelor           1/20/11       Unemployed      M       0   \n",
       "4     Bachelor            2/3/11         Employed      M   43836   \n",
       "...        ...               ...              ...    ...     ...   \n",
       "9129  Bachelor           2/10/11         Employed      M   71941   \n",
       "9130   College           2/12/11         Employed      F   21604   \n",
       "9131  Bachelor            2/6/11       Unemployed      M       0   \n",
       "9132   College            2/3/11         Employed      M   21941   \n",
       "9133   College           2/14/11       Unemployed      M       0   \n",
       "\n",
       "     Location Code Marital Status  Monthly Premium Auto  \\\n",
       "0         Suburban        Married                    69   \n",
       "1         Suburban         Single                    94   \n",
       "2         Suburban        Married                   108   \n",
       "3         Suburban        Married                   106   \n",
       "4            Rural         Single                    73   \n",
       "...            ...            ...                   ...   \n",
       "9129         Urban        Married                    73   \n",
       "9130      Suburban       Divorced                    79   \n",
       "9131      Suburban         Single                    85   \n",
       "9132      Suburban        Married                    96   \n",
       "9133      Suburban         Single                    77   \n",
       "\n",
       "      Months Since Last Claim  Months Since Policy Inception  \\\n",
       "0                          32                              5   \n",
       "1                          13                             42   \n",
       "2                          18                             38   \n",
       "3                          18                             65   \n",
       "4                          12                             44   \n",
       "...                       ...                            ...   \n",
       "9129                       18                             89   \n",
       "9130                       14                             28   \n",
       "9131                        9                             37   \n",
       "9132                       34                              3   \n",
       "9133                        3                             90   \n",
       "\n",
       "      Number of Open Complaints  Number of Policies     Policy Type  \\\n",
       "0                             0                   1  Corporate Auto   \n",
       "1                             0                   8   Personal Auto   \n",
       "2                             0                   2   Personal Auto   \n",
       "3                             0                   7  Corporate Auto   \n",
       "4                             0                   1   Personal Auto   \n",
       "...                         ...                 ...             ...   \n",
       "9129                          0                   2   Personal Auto   \n",
       "9130                          0                   1  Corporate Auto   \n",
       "9131                          3                   2  Corporate Auto   \n",
       "9132                          0                   3   Personal Auto   \n",
       "9133                          0                   1  Corporate Auto   \n",
       "\n",
       "            Policy Renew Offer Type Sales Channel  Total Claim Amount  \\\n",
       "0     Corporate L3           Offer1         Agent          384.811147   \n",
       "1      Personal L3           Offer3         Agent         1131.464935   \n",
       "2      Personal L3           Offer1         Agent          566.472247   \n",
       "3     Corporate L2           Offer1   Call Center          529.881344   \n",
       "4      Personal L1           Offer1         Agent          138.130879   \n",
       "...            ...              ...           ...                 ...   \n",
       "9129   Personal L1           Offer2           Web          198.234764   \n",
       "9130  Corporate L3           Offer1        Branch          379.200000   \n",
       "9131  Corporate L2           Offer1        Branch          790.784983   \n",
       "9132   Personal L2           Offer3        Branch          691.200000   \n",
       "9133  Corporate L3           Offer4   Call Center          369.600000   \n",
       "\n",
       "      Vehicle Class Vehicle Size  \n",
       "0      Two-Door Car      Medsize  \n",
       "1     Four-Door Car      Medsize  \n",
       "2      Two-Door Car      Medsize  \n",
       "3               SUV      Medsize  \n",
       "4     Four-Door Car      Medsize  \n",
       "...             ...          ...  \n",
       "9129  Four-Door Car      Medsize  \n",
       "9130  Four-Door Car      Medsize  \n",
       "9131  Four-Door Car      Medsize  \n",
       "9132  Four-Door Car        Large  \n",
       "9133   Two-Door Car      Medsize  \n",
       "\n",
       "[9134 rows x 24 columns]"
      ]
     },
     "execution_count": 13,
     "metadata": {},
     "output_type": "execute_result"
    }
   ],
   "source": [
    "to_drop = data[~data['Gender'].isin(['F','M'])].index.tolist()\n",
    "data.drop(to_drop, inplace = True)\n",
    "data.reset_index(drop=True)"
   ]
  },
  {
   "cell_type": "code",
   "execution_count": null,
   "metadata": {
    "colab": {
     "base_uri": "https://localhost:8080/",
     "height": 67
    },
    "id": "rulMfxdw8r4g",
    "outputId": "c03eb616-441b-4941-9475-9337f46de172"
   },
   "outputs": [],
   "source": [
    "data['GENDER'].value_counts()"
   ]
  },
  {
   "cell_type": "markdown",
   "metadata": {
    "id": "Oq7KjJhWuxLH"
   },
   "source": [
    "**Replace:**\n",
    "\n",
    "If we have some other information about that tells us we can do this, even if it is not the missing information. \n",
    "\n",
    "For example, if the data follow an approximately normal distribution, we might want to substitute the missing values with the mean. You always need to have something that \"tells you\" that you can replace the data.\n",
    "\n",
    "Let's consider column **HOMEOWNR**. \n",
    "\n",
    "*   Can we guess the value? **NO**\n",
    "*   Can this column have any possible value compatible with a missing value? **YES**: 'unknown'.\n",
    "\n",
    "Therefore, we can replace the value in this column by **'U'** for 'unknown'."
   ]
  },
  {
   "cell_type": "code",
   "execution_count": 14,
   "metadata": {
    "colab": {
     "base_uri": "https://localhost:8080/",
     "height": 84
    },
    "id": "eLpfkiH180De",
    "outputId": "b881a98b-07c2-4f2a-f1d1-4dc3cd3a1456"
   },
   "outputs": [
    {
     "ename": "KeyError",
     "evalue": "'Homeownr'",
     "output_type": "error",
     "traceback": [
      "\u001b[1;31m---------------------------------------------------------------------------\u001b[0m",
      "\u001b[1;31mKeyError\u001b[0m                                  Traceback (most recent call last)",
      "\u001b[1;32mD:\\Anaconda3\\lib\\site-packages\\pandas\\core\\indexes\\base.py\u001b[0m in \u001b[0;36mget_loc\u001b[1;34m(self, key, method, tolerance)\u001b[0m\n\u001b[0;32m   2894\u001b[0m             \u001b[1;32mtry\u001b[0m\u001b[1;33m:\u001b[0m\u001b[1;33m\u001b[0m\u001b[1;33m\u001b[0m\u001b[0m\n\u001b[1;32m-> 2895\u001b[1;33m                 \u001b[1;32mreturn\u001b[0m \u001b[0mself\u001b[0m\u001b[1;33m.\u001b[0m\u001b[0m_engine\u001b[0m\u001b[1;33m.\u001b[0m\u001b[0mget_loc\u001b[0m\u001b[1;33m(\u001b[0m\u001b[0mcasted_key\u001b[0m\u001b[1;33m)\u001b[0m\u001b[1;33m\u001b[0m\u001b[1;33m\u001b[0m\u001b[0m\n\u001b[0m\u001b[0;32m   2896\u001b[0m             \u001b[1;32mexcept\u001b[0m \u001b[0mKeyError\u001b[0m \u001b[1;32mas\u001b[0m \u001b[0merr\u001b[0m\u001b[1;33m:\u001b[0m\u001b[1;33m\u001b[0m\u001b[1;33m\u001b[0m\u001b[0m\n",
      "\u001b[1;32mpandas\\_libs\\index.pyx\u001b[0m in \u001b[0;36mpandas._libs.index.IndexEngine.get_loc\u001b[1;34m()\u001b[0m\n",
      "\u001b[1;32mpandas\\_libs\\index.pyx\u001b[0m in \u001b[0;36mpandas._libs.index.IndexEngine.get_loc\u001b[1;34m()\u001b[0m\n",
      "\u001b[1;32mpandas\\_libs\\hashtable_class_helper.pxi\u001b[0m in \u001b[0;36mpandas._libs.hashtable.PyObjectHashTable.get_item\u001b[1;34m()\u001b[0m\n",
      "\u001b[1;32mpandas\\_libs\\hashtable_class_helper.pxi\u001b[0m in \u001b[0;36mpandas._libs.hashtable.PyObjectHashTable.get_item\u001b[1;34m()\u001b[0m\n",
      "\u001b[1;31mKeyError\u001b[0m: 'Homeownr'",
      "\nThe above exception was the direct cause of the following exception:\n",
      "\u001b[1;31mKeyError\u001b[0m                                  Traceback (most recent call last)",
      "\u001b[1;32m<ipython-input-14-665b9f18c776>\u001b[0m in \u001b[0;36m<module>\u001b[1;34m\u001b[0m\n\u001b[1;32m----> 1\u001b[1;33m \u001b[0mdata\u001b[0m\u001b[1;33m[\u001b[0m\u001b[1;34m'Homeownr'\u001b[0m\u001b[1;33m]\u001b[0m\u001b[1;33m.\u001b[0m\u001b[0mvalue_counts\u001b[0m\u001b[1;33m(\u001b[0m\u001b[1;33m)\u001b[0m\u001b[1;33m\u001b[0m\u001b[1;33m\u001b[0m\u001b[0m\n\u001b[0m",
      "\u001b[1;32mD:\\Anaconda3\\lib\\site-packages\\pandas\\core\\frame.py\u001b[0m in \u001b[0;36m__getitem__\u001b[1;34m(self, key)\u001b[0m\n\u001b[0;32m   2900\u001b[0m             \u001b[1;32mif\u001b[0m \u001b[0mself\u001b[0m\u001b[1;33m.\u001b[0m\u001b[0mcolumns\u001b[0m\u001b[1;33m.\u001b[0m\u001b[0mnlevels\u001b[0m \u001b[1;33m>\u001b[0m \u001b[1;36m1\u001b[0m\u001b[1;33m:\u001b[0m\u001b[1;33m\u001b[0m\u001b[1;33m\u001b[0m\u001b[0m\n\u001b[0;32m   2901\u001b[0m                 \u001b[1;32mreturn\u001b[0m \u001b[0mself\u001b[0m\u001b[1;33m.\u001b[0m\u001b[0m_getitem_multilevel\u001b[0m\u001b[1;33m(\u001b[0m\u001b[0mkey\u001b[0m\u001b[1;33m)\u001b[0m\u001b[1;33m\u001b[0m\u001b[1;33m\u001b[0m\u001b[0m\n\u001b[1;32m-> 2902\u001b[1;33m             \u001b[0mindexer\u001b[0m \u001b[1;33m=\u001b[0m \u001b[0mself\u001b[0m\u001b[1;33m.\u001b[0m\u001b[0mcolumns\u001b[0m\u001b[1;33m.\u001b[0m\u001b[0mget_loc\u001b[0m\u001b[1;33m(\u001b[0m\u001b[0mkey\u001b[0m\u001b[1;33m)\u001b[0m\u001b[1;33m\u001b[0m\u001b[1;33m\u001b[0m\u001b[0m\n\u001b[0m\u001b[0;32m   2903\u001b[0m             \u001b[1;32mif\u001b[0m \u001b[0mis_integer\u001b[0m\u001b[1;33m(\u001b[0m\u001b[0mindexer\u001b[0m\u001b[1;33m)\u001b[0m\u001b[1;33m:\u001b[0m\u001b[1;33m\u001b[0m\u001b[1;33m\u001b[0m\u001b[0m\n\u001b[0;32m   2904\u001b[0m                 \u001b[0mindexer\u001b[0m \u001b[1;33m=\u001b[0m \u001b[1;33m[\u001b[0m\u001b[0mindexer\u001b[0m\u001b[1;33m]\u001b[0m\u001b[1;33m\u001b[0m\u001b[1;33m\u001b[0m\u001b[0m\n",
      "\u001b[1;32mD:\\Anaconda3\\lib\\site-packages\\pandas\\core\\indexes\\base.py\u001b[0m in \u001b[0;36mget_loc\u001b[1;34m(self, key, method, tolerance)\u001b[0m\n\u001b[0;32m   2895\u001b[0m                 \u001b[1;32mreturn\u001b[0m \u001b[0mself\u001b[0m\u001b[1;33m.\u001b[0m\u001b[0m_engine\u001b[0m\u001b[1;33m.\u001b[0m\u001b[0mget_loc\u001b[0m\u001b[1;33m(\u001b[0m\u001b[0mcasted_key\u001b[0m\u001b[1;33m)\u001b[0m\u001b[1;33m\u001b[0m\u001b[1;33m\u001b[0m\u001b[0m\n\u001b[0;32m   2896\u001b[0m             \u001b[1;32mexcept\u001b[0m \u001b[0mKeyError\u001b[0m \u001b[1;32mas\u001b[0m \u001b[0merr\u001b[0m\u001b[1;33m:\u001b[0m\u001b[1;33m\u001b[0m\u001b[1;33m\u001b[0m\u001b[0m\n\u001b[1;32m-> 2897\u001b[1;33m                 \u001b[1;32mraise\u001b[0m \u001b[0mKeyError\u001b[0m\u001b[1;33m(\u001b[0m\u001b[0mkey\u001b[0m\u001b[1;33m)\u001b[0m \u001b[1;32mfrom\u001b[0m \u001b[0merr\u001b[0m\u001b[1;33m\u001b[0m\u001b[1;33m\u001b[0m\u001b[0m\n\u001b[0m\u001b[0;32m   2898\u001b[0m \u001b[1;33m\u001b[0m\u001b[0m\n\u001b[0;32m   2899\u001b[0m         \u001b[1;32mif\u001b[0m \u001b[0mtolerance\u001b[0m \u001b[1;32mis\u001b[0m \u001b[1;32mnot\u001b[0m \u001b[1;32mNone\u001b[0m\u001b[1;33m:\u001b[0m\u001b[1;33m\u001b[0m\u001b[1;33m\u001b[0m\u001b[0m\n",
      "\u001b[1;31mKeyError\u001b[0m: 'Homeownr'"
     ]
    }
   ],
   "source": [
    "data['Homeownr'].value_counts()"
   ]
  },
  {
   "cell_type": "code",
   "execution_count": null,
   "metadata": {
    "id": "n_e8APOawN_Z"
   },
   "outputs": [],
   "source": [
    "np.unique(data['HOMEOWNR']).tolist()\n",
    "data['HOMEOWNR'] = np.where(data['HOMEOWNR'] == ' ','U','H')"
   ]
  },
  {
   "cell_type": "code",
   "execution_count": null,
   "metadata": {
    "colab": {
     "base_uri": "https://localhost:8080/",
     "height": 215
    },
    "id": "PowgahY_4Y_5",
    "outputId": "7fdf2532-a333-456c-80dc-18f8f31c2d9f"
   },
   "outputs": [],
   "source": [
    "data.head()"
   ]
  },
  {
   "cell_type": "markdown",
   "metadata": {
    "id": "xGDqb2gy13JS"
   },
   "source": [
    "## Interpolation"
   ]
  },
  {
   "cell_type": "markdown",
   "metadata": {
    "id": "jbfNseNa1ipQ"
   },
   "source": [
    "Let's see which kind interpolation between two consecutive missing values for the **'INCOME'** column is best.\n",
    "\n",
    "First **LOOK AT YOUR DATA!!!**"
   ]
  },
  {
   "cell_type": "code",
   "execution_count": null,
   "metadata": {
    "colab": {
     "base_uri": "https://localhost:8080/",
     "height": 195
    },
    "id": "q65pKzf32-lX",
    "outputId": "64dfd327-74a9-45c8-d652-fcb77d543d7c"
   },
   "outputs": [],
   "source": [
    "data[['INCOME']].head()"
   ]
  },
  {
   "cell_type": "code",
   "execution_count": null,
   "metadata": {
    "colab": {
     "base_uri": "https://localhost:8080/",
     "height": 296
    },
    "id": "7gKcBbgn1ea4",
    "outputId": "da2f4dd6-dd9a-4c24-e09e-e28109ecd853"
   },
   "outputs": [],
   "source": [
    "sns.histplot(data['INCOME'])"
   ]
  },
  {
   "cell_type": "markdown",
   "metadata": {
    "id": "DADy6-M7Ihr3"
   },
   "source": [
    "Let's try first with linear interpolation"
   ]
  },
  {
   "cell_type": "code",
   "execution_count": null,
   "metadata": {
    "colab": {
     "base_uri": "https://localhost:8080/",
     "height": 296
    },
    "id": "vKk3X_wXF7xW",
    "outputId": "7a70ca9d-8022-470c-e1a8-0b8d4094b82b"
   },
   "outputs": [],
   "source": [
    "new_income_data_linear = data['INCOME'].interpolate(method='linear')\n",
    "sns.histplot(new_income_data_linear)"
   ]
  },
  {
   "cell_type": "markdown",
   "metadata": {
    "id": "MG4qldlMJoZr"
   },
   "source": [
    "Akima's interpolation"
   ]
  },
  {
   "cell_type": "code",
   "execution_count": null,
   "metadata": {
    "colab": {
     "base_uri": "https://localhost:8080/",
     "height": 296
    },
    "id": "BNOlgZ79JRtk",
    "outputId": "537697dc-a935-4404-acd4-b9a7b212b3e7"
   },
   "outputs": [],
   "source": [
    "new_income_data_akima = data['INCOME'].interpolate(method='akima')\n",
    "sns.histplot(new_income_data_akima)"
   ]
  },
  {
   "cell_type": "markdown",
   "metadata": {
    "id": "85VqmA0iJuFO"
   },
   "source": [
    "Polynomial order 3."
   ]
  },
  {
   "cell_type": "code",
   "execution_count": null,
   "metadata": {
    "colab": {
     "base_uri": "https://localhost:8080/",
     "height": 296
    },
    "id": "e47C9K3sJsr7",
    "outputId": "02e72169-f888-45c2-cd7d-d39257824ec7"
   },
   "outputs": [],
   "source": [
    "new_income_data_poly = data['INCOME'].interpolate(method='polynomial', order=3)\n",
    "sns.histplot(new_income_data_poly)"
   ]
  },
  {
   "cell_type": "markdown",
   "metadata": {
    "id": "qdfuoyCjKGH0"
   },
   "source": [
    "Imputing with the mean"
   ]
  },
  {
   "cell_type": "code",
   "execution_count": null,
   "metadata": {
    "colab": {
     "base_uri": "https://localhost:8080/",
     "height": 296
    },
    "id": "hIQHgDIfKI4Y",
    "outputId": "3bb7e4ba-9949-495a-e197-db3f84be6f59"
   },
   "outputs": [],
   "source": [
    "# Testing interpolation method with mean and median methods\n",
    "points2 = data['INCOME'].fillna(np.mean(data['INCOME']))\n",
    "sns.histplot(points2)"
   ]
  },
  {
   "cell_type": "markdown",
   "metadata": {
    "id": "mgO-s8nSL4-F"
   },
   "source": [
    "Does it makes sense at all?"
   ]
  },
  {
   "cell_type": "markdown",
   "metadata": {
    "id": "_ELG2UtmKfq3"
   },
   "source": [
    "# Activity: Using linear regression to impute missing values.\n",
    "\n",
    "You already know how to predict a numerical ammount. Therefore, you can use other columns in order to predict the missing values of the column of you interest. Use 'HV1' and 'IC1' columns to predict the missing values of 'INCOME'.\n",
    "\n",
    "**Hint**: For sake of simplicity, when you have NaN s, you work with them as if they were a test set."
   ]
  },
  {
   "cell_type": "code",
   "execution_count": null,
   "metadata": {
    "colab": {
     "base_uri": "https://localhost:8080/",
     "height": 34
    },
    "id": "IRH3nFt99Hso",
    "outputId": "eb687544-6b9a-48d5-ffaa-423b0b5e5da1"
   },
   "outputs": [],
   "source": [
    "np.unique(data['Income'])"
   ]
  },
  {
   "cell_type": "code",
   "execution_count": null,
   "metadata": {
    "colab": {
     "base_uri": "https://localhost:8080/",
     "height": 50
    },
    "id": "ZxDghS0o95Z1",
    "outputId": "b64bbd5b-2a05-477c-e4f7-fbeb9035ff89"
   },
   "outputs": [],
   "source": [
    "pd.DataFrame(income_pred).isnull().sum()\n"
   ]
  },
  {
   "cell_type": "code",
   "execution_count": null,
   "metadata": {
    "colab": {
     "base_uri": "https://localhost:8080/",
     "height": 215
    },
    "id": "fPSjfB9lKrGf",
    "outputId": "cc8abaa5-0642-41c9-aa38-578fae1f6c90"
   },
   "outputs": [],
   "source": [
    "from sklearn.linear_model import LinearRegression\n",
    "\n",
    "X = data[~data.INCOME.isnull()][['HV1', 'IC1']]\n",
    "y = data[~data.INCOME.isnull()]['INCOME']\n",
    "\n",
    "X_nulls = data[data.INCOME.isnull()][['HV1', 'IC1']]\n",
    "\n",
    "model = LinearRegression().fit(X,y)\n",
    "income_pred = model.predict(X_nulls)\n",
    "\n",
    "data[data.INCOME.isnull()]['INCOME'] = np.round(income_pred) # Income values are integers, therefore, we need to round!\n",
    "data.head()"
   ]
  },
  {
   "cell_type": "markdown",
   "metadata": {
    "id": "EUF28bZY-8r_"
   },
   "source": [
    "Let's explore now the column 'TIMELAG'"
   ]
  },
  {
   "cell_type": "code",
   "execution_count": null,
   "metadata": {
    "colab": {
     "base_uri": "https://localhost:8080/",
     "height": 298
    },
    "id": "sWgdNFNr_EEQ",
    "outputId": "6d4b89c3-2368-4277-9195-e1a17fea83ed"
   },
   "outputs": [],
   "source": [
    "sns.histplot(data['TIMELAG'])"
   ]
  },
  {
   "cell_type": "code",
   "execution_count": null,
   "metadata": {
    "colab": {
     "base_uri": "https://localhost:8080/",
     "height": 296
    },
    "id": "OR696tayDPN6",
    "outputId": "4d3b75b1-4278-48c9-99c4-215be8044408"
   },
   "outputs": [],
   "source": [
    "sns.boxplot(x=data['TIMELAG'])"
   ]
  },
  {
   "cell_type": "code",
   "execution_count": null,
   "metadata": {
    "colab": {
     "base_uri": "https://localhost:8080/",
     "height": 296
    },
    "id": "YPIAHi9SBMOR",
    "outputId": "9b82b765-9d6d-40b3-deaf-bc4378fcabf2"
   },
   "outputs": [],
   "source": [
    "ax = sns.distplot(data['TIMELAG'])\n",
    "ax2 = ax.twinx()\n",
    "sns.boxplot(x=data['TIMELAG'], ax=ax2)\n",
    "ax2.set(ylim=(-.5, 10))"
   ]
  },
  {
   "cell_type": "markdown",
   "metadata": {
    "id": "2u7EpwNqDc4V"
   },
   "source": [
    "Let's try some transformations to see if we can improve the distribution."
   ]
  },
  {
   "cell_type": "code",
   "execution_count": null,
   "metadata": {
    "id": "e4Rf6RFHDj_1"
   },
   "outputs": [],
   "source": [
    "def log_transfom_clean_(x):\n",
    "    if np.isfinite(x) and x!=0: # If the value is finite and != 0...\n",
    "        return np.log(x)\n",
    "    else:\n",
    "        return np.NAN # We are returning NaNs so that we can replace them later\n",
    "\n",
    "def sqrt_transfom_clean_(x):\n",
    "    if np.isfinite(x) and x>=0:\n",
    "        return np.sqrt(x)\n",
    "    else:\n",
    "        return np.NAN # We are returning NaNs so that we can replace them later"
   ]
  },
  {
   "cell_type": "code",
   "execution_count": null,
   "metadata": {
    "colab": {
     "base_uri": "https://localhost:8080/",
     "height": 513
    },
    "id": "MT21pwjjD2QF",
    "outputId": "83f71b08-4282-4f14-f9c7-3a9dd4771a76"
   },
   "outputs": [],
   "source": [
    "# Using the functions to check the distribution of transformed data\n",
    "pd.Series(map(log_transfom_clean_, data['TIMELAG'])).hist()\n",
    "plt.show()\n",
    "\n",
    "pd.Series(map(sqrt_transfom_clean_, data['TIMELAG'])).hist()\n",
    "plt.show()"
   ]
  },
  {
   "cell_type": "markdown",
   "metadata": {
    "id": "zt6bTPfzEDeX"
   },
   "source": [
    "As it can be seen in the figure, the logaritmic transformation works better than the sqrt. \n",
    "\n",
    "This could be expected given the extreme skewness of the data.\n",
    "\n",
    "We could also us Box-Cox transformation, but probably the resulting distribution will be similar (alothough not the same, and even more, better). However, tihs is an illustrative example of how to proceed."
   ]
  },
  {
   "cell_type": "markdown",
   "metadata": {
    "id": "yq_UtZaEEnFN"
   },
   "source": [
    "Let's assume that we don't know about Box-Cox and we want to apply the logaritmic transformation to the **'TIMELAG'** column."
   ]
  },
  {
   "cell_type": "code",
   "execution_count": null,
   "metadata": {
    "id": "1HaBWtNNEk1W"
   },
   "outputs": [],
   "source": [
    "data['TIMELAG'] = list(map(log_transfom_clean_, data['TIMELAG']))"
   ]
  },
  {
   "cell_type": "markdown",
   "metadata": {
    "id": "736QWo20FJWm"
   },
   "source": [
    "Remember that our function, ignored the'0' and infinite values. The may want to replace them the mean of the NEW distribution."
   ]
  },
  {
   "cell_type": "code",
   "execution_count": null,
   "metadata": {
    "colab": {
     "base_uri": "https://localhost:8080/",
     "height": 279
    },
    "id": "TTqQDwQZFMf1",
    "outputId": "f1a9518e-5a55-49a8-99f5-77df959202db"
   },
   "outputs": [],
   "source": [
    "data['TIMELAG'] = data['TIMELAG'].fillna(np.mean(data['TIMELAG']))\n",
    "sns.distplot(data['TIMELAG'])\n",
    "plt.show()"
   ]
  },
  {
   "cell_type": "markdown",
   "metadata": {
    "id": "gf2LUCQ8FWVt"
   },
   "source": [
    "It's not perfectly Gaussian but we improved it a lot."
   ]
  },
  {
   "cell_type": "markdown",
   "metadata": {
    "id": "BONawT_EFrv0"
   },
   "source": [
    "# Activity: Logarithmic transformation.\n",
    "\n",
    "A logarithmic scale is common to visualize exponential data as they are the inverse function of each other, so the result would be a linear visualization. This is needed because we visualize exponential functions properly otherwise. As an example, you can see some corona virus visualizations, like [this one] (https://education-team-2020.s3-eu-west-1.amazonaws.com/data-analytics/4.1-COVID-Logarithmicvslinear.png). Check the log transform with the IC n columns."
   ]
  },
  {
   "cell_type": "code",
   "execution_count": null,
   "metadata": {
    "colab": {
     "base_uri": "https://localhost:8080/",
     "height": 296
    },
    "id": "ZbB7NuuEGQd4",
    "outputId": "3b37ad31-ad0a-4394-be40-c248c0132175"
   },
   "outputs": [],
   "source": [
    "sns.distplot(data['IC1'])\n",
    "#sns.distplot(np.log(data['IC1']))"
   ]
  },
  {
   "cell_type": "code",
   "execution_count": null,
   "metadata": {
    "colab": {
     "base_uri": "https://localhost:8080/",
     "height": 168
    },
    "id": "QLQZBL98bcen",
    "outputId": "d9240a6b-b5e4-4799-c690-89ca1200eabd"
   },
   "outputs": [],
   "source": [
    "data['IC1'].describe()"
   ]
  },
  {
   "cell_type": "code",
   "execution_count": null,
   "metadata": {
    "colab": {
     "base_uri": "https://localhost:8080/",
     "height": 296
    },
    "id": "SAgvZ4IGbtsV",
    "outputId": "78f5c96d-9336-451e-eaff-f90386bfa665"
   },
   "outputs": [],
   "source": [
    "fig,axes=plt.subplots(1,2)\n",
    "sns.distplot(data['IC1'], ax=axes[0], axlabel='IC1')\n",
    "sns.distplot(np.log(data['IC1']+1), ax=axes[1], axlabel='log(IC1+1)')"
   ]
  },
  {
   "cell_type": "code",
   "execution_count": null,
   "metadata": {
    "colab": {
     "base_uri": "https://localhost:8080/",
     "height": 299
    },
    "id": "22Ne5C71Xtlc",
    "outputId": "6d3069e6-38f1-4490-e47b-bd50f2323cda"
   },
   "outputs": [],
   "source": [
    "fig,axes=plt.subplots(1,2)\n",
    "sns.distplot(data['IC2'], ax=axes[0], axlabel='IC2')\n",
    "sns.distplot(np.log(data['IC2']+1), ax=axes[1], axlabel='log(IC2+1)')"
   ]
  },
  {
   "cell_type": "code",
   "execution_count": null,
   "metadata": {
    "colab": {
     "base_uri": "https://localhost:8080/",
     "height": 296
    },
    "id": "42B8HYsDXxUj",
    "outputId": "e0e4a6b5-6045-481e-a3a6-e885be0a29e3"
   },
   "outputs": [],
   "source": [
    "fig,axes=plt.subplots(1,2)\n",
    "sns.distplot(data['IC3'], ax=axes[0], axlabel = 'IC3')\n",
    "sns.distplot(np.log(data['IC3']+1), ax=axes[1], axlabel = 'log(IC3+1)')"
   ]
  },
  {
   "cell_type": "code",
   "execution_count": null,
   "metadata": {
    "colab": {
     "base_uri": "https://localhost:8080/",
     "height": 296
    },
    "id": "eSlA7KwEX0V7",
    "outputId": "192a2c49-6130-4498-8fe7-9b1824c8d544"
   },
   "outputs": [],
   "source": [
    "fig,axes=plt.subplots(1,2)\n",
    "sns.distplot(data['IC4'], ax=axes[0], axlabel = 'IC4')\n",
    "sns.distplot(np.log(data['IC4']+1), ax=axes[1], axlabel = 'log(IC4+1)')"
   ]
  },
  {
   "cell_type": "markdown",
   "metadata": {
    "id": "S5Xr3-MGZ8tO"
   },
   "source": [
    "Even after using the transformation, there is still some skewness in the column TIMELAG . We will remove the outliers only from the right side of the distribution plot."
   ]
  },
  {
   "cell_type": "code",
   "execution_count": null,
   "metadata": {
    "colab": {
     "base_uri": "https://localhost:8080/",
     "height": 296
    },
    "id": "Js3BfhS4bC5y",
    "outputId": "3dd4f5a9-6ac2-4935-f9bc-f3e09965757b"
   },
   "outputs": [],
   "source": [
    "sns.distplot(data['TIMELAG'])"
   ]
  },
  {
   "cell_type": "markdown",
   "metadata": {
    "id": "pq1asbgXaNHc"
   },
   "source": [
    "Let's start knowing how many values will be removed if we decide to drop all the values beyond the upper wisker."
   ]
  },
  {
   "cell_type": "code",
   "execution_count": null,
   "metadata": {
    "colab": {
     "base_uri": "https://localhost:8080/",
     "height": 50
    },
    "id": "83nMRpqBaGKt",
    "outputId": "4aabba32-c993-4fd2-f03a-68b125f1d13f"
   },
   "outputs": [],
   "source": [
    "iqr = np.percentile(data['TIMELAG'],75) - np.percentile(data['TIMELAG'],25)\n",
    "upper_limit = np.percentile(data['TIMELAG'],75) + 1.5*iqr\n",
    "print(\"The upper wisker is at: %4.2f\" % upper_limit)\n",
    "outliers = data[data['TIMELAG'] > upper_limit].index.tolist()\n",
    "print(\"The number of points outise the upper wisker is: \",len(outliers))"
   ]
  },
  {
   "cell_type": "markdown",
   "metadata": {
    "id": "-2gg1cE6bhXP"
   },
   "source": [
    "## Filtering outliers"
   ]
  },
  {
   "cell_type": "markdown",
   "metadata": {
    "id": "uhf6vSIqbt9D"
   },
   "source": [
    "Let's explore two different ways to drop outliers."
   ]
  },
  {
   "cell_type": "markdown",
   "metadata": {
    "id": "y-EDHR_tbzQB"
   },
   "source": [
    "### Filter function. filter(lambda_function, column)"
   ]
  },
  {
   "cell_type": "code",
   "execution_count": null,
   "metadata": {
    "colab": {
     "base_uri": "https://localhost:8080/",
     "height": 34
    },
    "id": "bBVAWwpQb2eC",
    "outputId": "582673dd-2cff-473d-9398-d7ad540f60b6"
   },
   "outputs": [],
   "source": [
    "points = list(filter(lambda x: x < upper_limit, data['TIMELAG']))\n",
    "len(points)"
   ]
  },
  {
   "cell_type": "markdown",
   "metadata": {
    "id": "0acfZ48LcIJu"
   },
   "source": [
    "### Panda's approach"
   ]
  },
  {
   "cell_type": "code",
   "execution_count": null,
   "metadata": {
    "colab": {
     "base_uri": "https://localhost:8080/",
     "height": 279
    },
    "id": "0L0Or7eRcN5K",
    "outputId": "02526b41-9e50-4c5a-bcfe-fdd8137cf2a8"
   },
   "outputs": [],
   "source": [
    "data = data[data['TIMELAG'] < upper_limit]\n",
    "sns.distplot(data['TIMELAG'])\n",
    "plt.show()"
   ]
  },
  {
   "cell_type": "markdown",
   "metadata": {
    "id": "SFy4dolLce_9"
   },
   "source": [
    "# Activity:\n",
    "\n",
    "Let's learn how the following functions work::\n",
    "\n",
    "*   Map\n",
    "*   Filter\n",
    "*   Reduce"
   ]
  },
  {
   "cell_type": "markdown",
   "metadata": {
    "id": "pcQ-3tfYc7j0"
   },
   "source": [
    "## Map\n",
    "\n",
    "This function, applies another given function to every element of a set.\n",
    "It works **elementwise**."
   ]
  },
  {
   "cell_type": "code",
   "execution_count": null,
   "metadata": {
    "colab": {
     "base_uri": "https://localhost:8080/",
     "height": 269
    },
    "id": "4uu_2kxbdKAW",
    "outputId": "e96d18a2-fa38-47b6-fa15-a8006b2c9a45"
   },
   "outputs": [],
   "source": [
    "list(map(str,range(15)))"
   ]
  },
  {
   "cell_type": "markdown",
   "metadata": {
    "id": "HCq4RX54dcIw"
   },
   "source": [
    "## Filter\n",
    "\n",
    "This other function also works elementwise but it returns the elements which met a condition."
   ]
  },
  {
   "cell_type": "code",
   "execution_count": null,
   "metadata": {
    "colab": {
     "base_uri": "https://localhost:8080/",
     "height": 34
    },
    "id": "1evkh_6Wd9Nv",
    "outputId": "9554a0b5-712c-4c5b-ae6d-02adb070a07c"
   },
   "outputs": [],
   "source": [
    "list(filter(lambda x: x %2 == 0,range(15)))"
   ]
  },
  {
   "cell_type": "markdown",
   "metadata": {
    "id": "fqkYFNhceShb"
   },
   "source": [
    "## Reduce\n",
    "\n",
    "This other function performs some computation on a list and returns the output of that computation applied all over the list. Is **NOT ELEMENTWISE**"
   ]
  },
  {
   "cell_type": "code",
   "execution_count": null,
   "metadata": {
    "colab": {
     "base_uri": "https://localhost:8080/",
     "height": 50
    },
    "id": "6IWxP5_megCc",
    "outputId": "3287179d-20fd-4d0c-bbd1-e379ab975c97"
   },
   "outputs": [],
   "source": [
    "from functools import reduce\n",
    "\n",
    "lst = list(range(6))\n",
    "print(\"The list is: \",lst)\n",
    "print(\"The result of appliying the reduce over the list is: \",reduce(lambda a,b: a+b,lst))"
   ]
  },
  {
   "cell_type": "markdown",
   "metadata": {
    "id": "hvEohZdmhc5P"
   },
   "source": [
    "# Lesson 1 Key Concepts"
   ]
  },
  {
   "cell_type": "markdown",
   "metadata": {
    "id": "axTbeWhWlJXl"
   },
   "source": [
    "## Selecting categorical data"
   ]
  },
  {
   "cell_type": "code",
   "execution_count": null,
   "metadata": {
    "id": "LE1lLU9llNXS"
   },
   "outputs": [],
   "source": [
    "categoricals = data.select_dtypes(np.object)\n",
    "categoricals.head()"
   ]
  },
  {
   "cell_type": "markdown",
   "metadata": {
    "id": "Y_gspaSbm6iJ"
   },
   "source": [
    "Let's check the number of missing values for 'PVASTATE' column"
   ]
  },
  {
   "cell_type": "code",
   "execution_count": null,
   "metadata": {
    "id": "ttDLJvyGmzFS"
   },
   "outputs": [],
   "source": [
    "data['PVASTATE'].value_counts()"
   ]
  },
  {
   "cell_type": "markdown",
   "metadata": {
    "id": "v0wpecUxnGj5"
   },
   "source": [
    "Now for columns 'RECP3'"
   ]
  },
  {
   "cell_type": "code",
   "execution_count": null,
   "metadata": {
    "id": "-yFWqI2EnPWz"
   },
   "outputs": [],
   "source": [
    "data['RECP3'].value_counts()"
   ]
  },
  {
   "cell_type": "markdown",
   "metadata": {
    "id": "BtlrI4S2nSkI"
   },
   "source": [
    "And finally for 'VETERANS' column"
   ]
  },
  {
   "cell_type": "code",
   "execution_count": null,
   "metadata": {
    "id": "8B0oVbcRnXuh"
   },
   "outputs": [],
   "source": [
    "data['VETERANS'].value_counts()"
   ]
  },
  {
   "cell_type": "markdown",
   "metadata": {
    "id": "IF6jHAsDnf7C"
   },
   "source": [
    "Those columns have too much missing values. If we drop the rows containing those NA's we're in the risk of shrinking too much our dataset. Currently, we can't do too much with columns for which there are so many missing values, therefore let's drop them."
   ]
  },
  {
   "cell_type": "code",
   "execution_count": null,
   "metadata": {
    "id": "-BH57E1Cn1wv"
   },
   "outputs": [],
   "source": [
    "data = data.drop(columns=['PVASTATE', 'RECP3', 'VETERANS'], axis=1)"
   ]
  },
  {
   "cell_type": "markdown",
   "metadata": {
    "id": "-I3rHHr2oHmT"
   },
   "source": [
    "# Activity:\n",
    "\n",
    "For the column 'DOMAIN', discuss which option is better to clean the rows where the values are empty.\n",
    "\n",
    "*  Option 1: Filtering the rows with the empty values.\n",
    "*  Option 2: Replacing the empty values with some other category, the most frequently represented value in that column."
   ]
  },
  {
   "cell_type": "code",
   "execution_count": null,
   "metadata": {
    "id": "kIQkIVG3oa8m"
   },
   "outputs": [],
   "source": [
    "data['DOMAIN'].value_counts()"
   ]
  },
  {
   "cell_type": "code",
   "execution_count": null,
   "metadata": {
    "id": "W4wJs7ZXorCE"
   },
   "outputs": [],
   "source": [
    "unique_values = list(np.unique(data['DOMAIN']))\n",
    "print(unique_values)"
   ]
  },
  {
   "cell_type": "markdown",
   "metadata": {
    "id": "GjCBEi8CpPjs"
   },
   "source": [
    "This column a lot of many possible different values. It's difficult to thnik how to impute this values and the number of missing values is quite small compared with the aggregated amount of non missing values. Therefore, dropping the missing values will not hurt."
   ]
  },
  {
   "cell_type": "code",
   "execution_count": null,
   "metadata": {
    "id": "43wjcOGgo5Zf"
   },
   "outputs": [],
   "source": [
    "data = data[data['DOMAIN'].isin(unique_values[1:])]\n",
    "# Note after you filter, it is a good practice to reset the index\n",
    "data = data.reset_index(drop=True)\n",
    "data.head()"
   ]
  },
  {
   "cell_type": "markdown",
   "metadata": {
    "id": "jEYkKyC1qgRo"
   },
   "source": [
    "Let's check what we have now."
   ]
  },
  {
   "cell_type": "code",
   "execution_count": null,
   "metadata": {
    "id": "GXltkmCUqisO"
   },
   "outputs": [],
   "source": [
    "data[\"DOMAIN\"].value_counts()"
   ]
  },
  {
   "cell_type": "markdown",
   "metadata": {
    "id": "p60IIJg_skQA"
   },
   "source": [
    "# Lesson 2 Key Concepts"
   ]
  },
  {
   "cell_type": "markdown",
   "metadata": {
    "id": "ySy_S8ZLsz38"
   },
   "source": [
    "Let's consider the column 'GENDER'"
   ]
  },
  {
   "cell_type": "code",
   "execution_count": null,
   "metadata": {
    "id": "8lRgTFUls39q"
   },
   "outputs": [],
   "source": [
    "data['GENDER'].value_counts()"
   ]
  },
  {
   "cell_type": "markdown",
   "metadata": {
    "id": "sTBZoKRatBxx"
   },
   "source": [
    "No missing values as we cleaned it this morning ;)"
   ]
  },
  {
   "cell_type": "markdown",
   "metadata": {
    "id": "-UiMqiHdtHr2"
   },
   "source": [
    "Now let's see if there are differences between the the 'AVGGIFT' by gender."
   ]
  },
  {
   "cell_type": "code",
   "execution_count": null,
   "metadata": {
    "id": "HjFXkPL2tbSz"
   },
   "outputs": [],
   "source": [
    "# Visually analyzing categorical data with Target variable\n",
    "sns.boxplot(x=\"GENDER\", y=\"AVGGIFT\", data=data)\n",
    "plt.show()"
   ]
  },
  {
   "cell_type": "code",
   "execution_count": null,
   "metadata": {
    "id": "nZTMvYvhusIS"
   },
   "outputs": [],
   "source": [
    "ax1 = sns.distplot(data['AVGGIFT'][data['GENDER'] == 'M'], color = 'Red')\n",
    "ax2 = sns.distplot(data['AVGGIFT'][data['GENDER'] == 'F'], color = 'Blue')\n",
    "plt.xlim(0, 200)"
   ]
  },
  {
   "cell_type": "markdown",
   "metadata": {
    "id": "c520QzwEtkMV"
   },
   "source": [
    "Both groups doesn't look too different. They have a few outliers.\n",
    "\n",
    "**HOWEVER**, be carefull. You don't know now how the distributions look inside the boxes!\n",
    "\n",
    "Let's check the average gift by gender."
   ]
  },
  {
   "cell_type": "code",
   "execution_count": null,
   "metadata": {
    "id": "KBZczN4ht9hL"
   },
   "outputs": [],
   "source": [
    "sns.barplot(x=\"GENDER\", y=\"AVGGIFT\", data=data)\n",
    "plt.show()"
   ]
  },
  {
   "cell_type": "markdown",
   "metadata": {
    "id": "8tR6BR8bzWNr"
   },
   "source": [
    "We can conclude that the company doesn't make significant differences on the gift according to the gender. Therefore let's remove this column."
   ]
  },
  {
   "cell_type": "code",
   "execution_count": null,
   "metadata": {
    "id": "yPhSLZ8Szi6k"
   },
   "outputs": [],
   "source": [
    "data = data.drop(columns=['GENDER'], axis=1)"
   ]
  },
  {
   "cell_type": "markdown",
   "metadata": {
    "id": "yvCyFx1Yz7fK"
   },
   "source": [
    "# Activity:\n",
    "\n",
    "There is a more efficient way to use map over pandas dataframes, and it is called [apply](https://pandas.pydata.org/pandas-docs/stable/reference/api/pandas.DataFrame.apply.html)"
   ]
  },
  {
   "cell_type": "code",
   "execution_count": null,
   "metadata": {
    "id": "HvhDvVsw0Lkw"
   },
   "outputs": [],
   "source": [
    "#data['GENDER'] = data['GENDER'].apply(lambda x: 'other' if x in ['',' ' ,'U', 'C', 'J', 'A'] else x)"
   ]
  },
  {
   "cell_type": "markdown",
   "metadata": {
    "id": "EMl7_SVp0aSc"
   },
   "source": [
    "# Lesson 3 Key Concepts."
   ]
  },
  {
   "cell_type": "markdown",
   "metadata": {
    "id": "ydOYLjsW2mbp"
   },
   "source": [
    "## Dealing with a large number of categories"
   ]
  },
  {
   "cell_type": "markdown",
   "metadata": {
    "id": "PvU7tOrw2xkR"
   },
   "source": [
    "Let's inspect the column 'STATE'"
   ]
  },
  {
   "cell_type": "code",
   "execution_count": null,
   "metadata": {
    "id": "vyxIuiDQ42Yf"
   },
   "outputs": [],
   "source": [
    "state_values = list(np.unique(data['STATE']))\n",
    "state_values"
   ]
  },
  {
   "cell_type": "markdown",
   "metadata": {
    "id": "Qv0JsVZ45DHk"
   },
   "source": [
    "Huuummm, there are typos... Which is 'AA'?. A current list of abreviations can be found [here](https://www.ssa.gov/international/coc-docs/states.html)"
   ]
  },
  {
   "cell_type": "code",
   "execution_count": null,
   "metadata": {
    "id": "9yniXIGn6FJl"
   },
   "outputs": [],
   "source": [
    "real_states = ['AL','AK','AS','AZ','AR','CA','CO','CT','DE','DC','FL','GA','GU','HI','ID','IL','IN','IA','KS',\n",
    "'KY','LA','ME','MD','MA','MI','MN','MS','MO','MT','NE','NV','NH','NJ','NM','NY','NC','ND','MP','OH','OK','OR',\n",
    "'PA','PR','RI','SC','SD','TN','TX','UT','VT','VA','VI','WA','WV','WI','WY']"
   ]
  },
  {
   "cell_type": "markdown",
   "metadata": {
    "id": "KDFYDTY17eIT"
   },
   "source": [
    "First we are going to filter out values which doesn't correspond to any of the previous list."
   ]
  },
  {
   "cell_type": "code",
   "execution_count": null,
   "metadata": {
    "id": "E_Gw3aRL7kiz"
   },
   "outputs": [],
   "source": [
    "data = data[data['STATE'].isin(real_states)]"
   ]
  },
  {
   "cell_type": "markdown",
   "metadata": {
    "id": "zSQ90coV7xlx"
   },
   "source": [
    "Now, let's check the frequencies of each state."
   ]
  },
  {
   "cell_type": "code",
   "execution_count": null,
   "metadata": {
    "id": "KnRmFjSW2n1S"
   },
   "outputs": [],
   "source": [
    "vals = pd.DataFrame(data['STATE'].value_counts())\n",
    "vals = vals.reset_index()\n",
    "vals.columns = ['state', 'counts']\n",
    "vals"
   ]
  },
  {
   "cell_type": "markdown",
   "metadata": {
    "id": "KfvKqo-l4i9A"
   },
   "source": [
    "As we can see there are states which are under represented. We have several options.\n",
    "\n",
    "*  Group the states in smaller groups.\n",
    "*  Group under represented states in a single group.\n",
    "*  A combination of both.\n",
    "\n",
    "We will use the last option.\n",
    "\n",
    "Given the previous state frequencies, can you guess any business insigth?"
   ]
  },
  {
   "cell_type": "markdown",
   "metadata": {
    "id": "XjEEcStN8x87"
   },
   "source": [
    "First, let's get the states which are under represented."
   ]
  },
  {
   "cell_type": "code",
   "execution_count": null,
   "metadata": {
    "id": "Q2cfgNkz8o12"
   },
   "outputs": [],
   "source": [
    "group_states_df = vals[vals['counts']<2500]\n",
    "group_states = list(group_states_df['state'])\n",
    "group_states"
   ]
  },
  {
   "cell_type": "code",
   "execution_count": null,
   "metadata": {
    "id": "VwgWMBmn8gYV"
   },
   "outputs": [],
   "source": [
    "def clean_state(x):\n",
    "    if x in group_states:\n",
    "        return 'other'\n",
    "    else:\n",
    "        return x\n",
    "\n",
    "data['STATE'] = list(map(clean_state, data['STATE']))"
   ]
  },
  {
   "cell_type": "markdown",
   "metadata": {
    "id": "fUPXg3Lj9Mib"
   },
   "source": [
    "What are now our final groups?"
   ]
  },
  {
   "cell_type": "code",
   "execution_count": null,
   "metadata": {
    "id": "378yg3CK9B7x"
   },
   "outputs": [],
   "source": [
    "new_state_values = list(np.unique(data['STATE']))\n",
    "new_state_values"
   ]
  },
  {
   "cell_type": "markdown",
   "metadata": {
    "id": "e4ttzqT6-Ip5"
   },
   "source": [
    "## Binning numerical columns."
   ]
  },
  {
   "cell_type": "markdown",
   "metadata": {
    "id": "84yzs3ep9W5a"
   },
   "source": [
    "Let's see rigth now the 'IC2' column. This column is numerical, but we would like to make it categorical using. **binning**  \n",
    "\n"
   ]
  },
  {
   "cell_type": "code",
   "execution_count": null,
   "metadata": {
    "id": "TllLBxiQ9b6g"
   },
   "outputs": [],
   "source": [
    "ic2_labels = ['Low', 'Moderate', 'High', 'Very High']\n",
    "data['IC2_NEW'] = pd.cut(data['IC2'],4, labels=ic2_labels) # see: https://pandas.pydata.org/pandas-docs/stable/reference/api/pandas.cut.html?highlight=cut#pandas.cut\n",
    "data['IC2_NEW'].value_counts()"
   ]
  },
  {
   "cell_type": "markdown",
   "metadata": {
    "id": "9hQbWQOB_OBG"
   },
   "source": [
    "# Activity:\n",
    "\n",
    "Use the column MDMAUD to reduce the number of categories to two (XXXX and other)."
   ]
  },
  {
   "cell_type": "code",
   "execution_count": null,
   "metadata": {
    "id": "oFGSMItv_hmw"
   },
   "outputs": [],
   "source": [
    "data[\"MDMAUD\"].apply(lambda x: \"other\" if x != \"XXXX\" else x)\n",
    "#data['MDMAUD_2'] = np.where(data['MDMAUD'] == \"XXXX\", \"XXXX\",\"other\")"
   ]
  },
  {
   "cell_type": "markdown",
   "metadata": {
    "id": "CbRK2RLwAk31"
   },
   "source": [
    "# Lesson 4 Key Concepts."
   ]
  },
  {
   "cell_type": "markdown",
   "metadata": {
    "id": "tluHpZn_CGhM"
   },
   "source": [
    "Regular expressions in Python. \n",
    "\n",
    "[see here](https://docs.python.org/3/library/re.html)\n",
    "\n",
    "[practice here](https://pythex.org/)"
   ]
  },
  {
   "cell_type": "markdown",
   "metadata": {
    "id": "VLUa41jkDLun"
   },
   "source": [
    "*: Matches previous character 0 or more times.\n",
    "\n",
    "+: Matches previous character 1 or more times.\n",
    "\n",
    "?: Matches previous character 0 or 1 times (optional).\n",
    "\n",
    "{}: Matches previous characters however many times specified within:.\n",
    "\n",
    "{n}: Exactly n times.\n",
    "\n",
    "{n,}: At least n times.\n",
    "\n",
    "{n,m}: Between n and m times."
   ]
  },
  {
   "cell_type": "code",
   "execution_count": null,
   "metadata": {
    "id": "6HVOEZ7sCPau"
   },
   "outputs": [],
   "source": [
    "import re"
   ]
  },
  {
   "cell_type": "markdown",
   "metadata": {
    "id": "db9-xiMLCkNK"
   },
   "source": [
    "Let's see some examples."
   ]
  },
  {
   "cell_type": "code",
   "execution_count": null,
   "metadata": {
    "id": "rlX7PzoYCNVt"
   },
   "outputs": [],
   "source": [
    "text = \"The complicit caat interacted with the other cats exactly as we expected.\"\n",
    "pattern = \"c*t\"\n",
    "print(re.findall(pattern, text))"
   ]
  },
  {
   "cell_type": "code",
   "execution_count": null,
   "metadata": {
    "id": "h-4_mzwlDT0q"
   },
   "outputs": [],
   "source": [
    "text = \"The complicit caat interacted with the other cats exactly as we expected.\"\n",
    "\n",
    "pattern = 'c*a*t'\n",
    "print(re.findall(pattern, text))"
   ]
  },
  {
   "cell_type": "code",
   "execution_count": null,
   "metadata": {
    "id": "6EPms20vDis8"
   },
   "outputs": [],
   "source": [
    "text = \"The complicit caaaat ct interacted with the other cats exactly as we expected.\"\n",
    "pattern = \"a+\"\n",
    "print(re.findall(pattern, text))"
   ]
  },
  {
   "cell_type": "code",
   "execution_count": null,
   "metadata": {
    "id": "mVIDStJhDrAZ"
   },
   "outputs": [],
   "source": [
    "text = \"Is the correct spelling color or colour?\"\n",
    "pattern = \"colou?r\"\n",
    "print(re.findall(pattern, text))"
   ]
  },
  {
   "cell_type": "code",
   "execution_count": null,
   "metadata": {
    "id": "JrVWwso8DxAj"
   },
   "outputs": [],
   "source": [
    "text = \"We can match the following: aaaawwww, aww, awww, awwww, awwwww\"\n",
    "pattern = \"aw{3}\"\n",
    "print(re.findall(pattern, text))"
   ]
  },
  {
   "cell_type": "code",
   "execution_count": null,
   "metadata": {
    "id": "Kcv8yx3oD4aj"
   },
   "outputs": [],
   "source": [
    "text = \"Let's see how we can match the following: aaw, aaww, aawww, awwww, awwwww\"\n",
    "pattern = \"aw{1,}\"\n",
    "print(re.findall(pattern, text))"
   ]
  },
  {
   "cell_type": "code",
   "execution_count": null,
   "metadata": {
    "id": "jq976WFtEK61"
   },
   "outputs": [],
   "source": [
    "pattern = \"a{2,}w{2,}\"\n",
    "print(re.findall(pattern, text))"
   ]
  },
  {
   "cell_type": "markdown",
   "metadata": {
    "id": "LszNY0DbESxE"
   },
   "source": [
    "# Activity:\n",
    "\n",
    "Create a function to automate the process of reducing the number of values of a categorical column."
   ]
  },
  {
   "cell_type": "code",
   "execution_count": null,
   "metadata": {
    "id": "VvO_4vJ2EgOe"
   },
   "outputs": [],
   "source": [
    "def reduce_categorical(x, to_keep = [], to_replace = [], processed = \"Other\"):\n",
    "    if x in to_keep or (to_keep == [] and x not in to_replace):\n",
    "        return x\n",
    "    else:\n",
    "        return processed"
   ]
  },
  {
   "cell_type": "code",
   "execution_count": null,
   "metadata": {
    "id": "glEkA3kaPoZ6"
   },
   "outputs": [],
   "source": [
    "data.to_csv('unit4_partially_processed.csv', index=False) "
   ]
  },
  {
   "cell_type": "code",
   "execution_count": null,
   "metadata": {},
   "outputs": [],
   "source": []
  }
 ],
 "metadata": {
  "colab": {
   "name": "Lesson 1-4 Key Concepts.ipynb",
   "provenance": []
  },
  "kernelspec": {
   "display_name": "Python 3",
   "language": "python",
   "name": "python3"
  },
  "language_info": {
   "codemirror_mode": {
    "name": "ipython",
    "version": 3
   },
   "file_extension": ".py",
   "mimetype": "text/x-python",
   "name": "python",
   "nbconvert_exporter": "python",
   "pygments_lexer": "ipython3",
   "version": "3.8.5"
  }
 },
 "nbformat": 4,
 "nbformat_minor": 1
}
